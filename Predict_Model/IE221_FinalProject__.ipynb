{
  "nbformat": 4,
  "nbformat_minor": 0,
  "metadata": {
    "colab": {
      "name": " IE221_FinalProject__.ipynb",
      "provenance": [],
      "collapsed_sections": []
    },
    "kernelspec": {
      "name": "python3",
      "display_name": "Python 3"
    },
    "language_info": {
      "name": "python"
    }
  },
  "cells": [
    {
      "cell_type": "markdown",
      "source": [
        "#**Step1: Import Library**"
      ],
      "metadata": {
        "id": "JwquyMPigE7j"
      }
    },
    {
      "cell_type": "code",
      "source": [
        "import numpy as np\n",
        "import pandas as pd \n",
        "import os\n",
        "from sklearn.model_selection import train_test_split\n",
        "from sklearn.preprocessing import StandardScaler\n",
        "import seaborn as sns\n",
        "import matplotlib.pyplot as plt \n",
        "from sklearn.metrics import r2_score\n",
        "from sklearn import model_selection\n",
        "from sklearn.model_selection import GridSearchCV"
      ],
      "metadata": {
        "id": "0FaBKIe7oQJn"
      },
      "execution_count": 1,
      "outputs": []
    },
    {
      "cell_type": "code",
      "source": [
        "from google.colab import drive\n",
        "drive.mount('/gdrive')"
      ],
      "metadata": {
        "id": "7ZFycyVFJ0aL",
        "colab": {
          "base_uri": "https://localhost:8080/"
        },
        "outputId": "5822a4ce-b8df-485a-ab53-56764214253a"
      },
      "execution_count": 2,
      "outputs": [
        {
          "output_type": "stream",
          "name": "stdout",
          "text": [
            "Mounted at /gdrive\n"
          ]
        }
      ]
    },
    {
      "cell_type": "markdown",
      "source": [
        "#**Step2: Reading File**"
      ],
      "metadata": {
        "id": "h5NZL4N1gIlk"
      }
    },
    {
      "cell_type": "code",
      "source": [
        "df1 = pd.read_csv(\"/gdrive/MyDrive/IE221-KythuatlaptrinhPython/Houseprice.csv\")\n",
        "df2 = pd.read_csv(\"/gdrive/MyDrive/IE221-KythuatlaptrinhPython/Houseprice2.csv\")"
      ],
      "metadata": {
        "id": "cBwqpOz_9uZL"
      },
      "execution_count": 3,
      "outputs": []
    },
    {
      "cell_type": "code",
      "source": [
        "#df1 = pd.read_csv(\"/gdrive/MyDrive/Houseprice.csv\")\n",
        "#df2 = pd.read_csv(\"/gdrive/MyDrive/Houseprice2.csv\")"
      ],
      "metadata": {
        "id": "jiarwFBFX2k8"
      },
      "execution_count": 4,
      "outputs": []
    },
    {
      "cell_type": "code",
      "source": [
        "df_org = pd.concat([df1,df2])\n",
        "df_org.head()"
      ],
      "metadata": {
        "id": "XZiaSQ3HnT5s",
        "colab": {
          "base_uri": "https://localhost:8080/",
          "height": 206
        },
        "outputId": "bfe88dbd-35b8-4124-8871-fa1cb3a3c39a"
      },
      "execution_count": 5,
      "outputs": [
        {
          "output_type": "execute_result",
          "data": {
            "text/plain": [
              "               Quận           Loại_BDS         Pháp_lý Số_tầng Số_phòng  \\\n",
              "0  Huyện Bình Chánh       Nhà mặt tiền  Sổ hồng/ Sổ đỏ       1        4   \n",
              "1      Huyện Củ Chi  Đất thổ cư, đất ở  Sổ hồng/ Sổ đỏ     ---      ---   \n",
              "2      Huyện Củ Chi  Đất thổ cư, đất ở  Sổ hồng/ Sổ đỏ     ---      ---   \n",
              "3      Huyện Củ Chi  Đất thổ cư, đất ở             ---     ---      ---   \n",
              "4      Huyện Củ Chi  Đất thổ cư, đất ở  Sổ hồng/ Sổ đỏ     ---      ---   \n",
              "\n",
              "   Diện_tích   Dài Rộng                Giá  \n",
              "0     100 m2   20m   5m            1,2 tỷ   \n",
              "1   3.100 m2   50m  30m   2,5 triệu / m2    \n",
              "2   5.002 m2  205m  45m          12,75 tỷ   \n",
              "3   4.147 m2   ---  ---           6,39 tỷ   \n",
              "4   1.635 m2   82m  20m              9 tỷ   "
            ],
            "text/html": [
              "\n",
              "  <div id=\"df-49ac2f44-0a42-45c6-bb62-da77905c0e0d\">\n",
              "    <div class=\"colab-df-container\">\n",
              "      <div>\n",
              "<style scoped>\n",
              "    .dataframe tbody tr th:only-of-type {\n",
              "        vertical-align: middle;\n",
              "    }\n",
              "\n",
              "    .dataframe tbody tr th {\n",
              "        vertical-align: top;\n",
              "    }\n",
              "\n",
              "    .dataframe thead th {\n",
              "        text-align: right;\n",
              "    }\n",
              "</style>\n",
              "<table border=\"1\" class=\"dataframe\">\n",
              "  <thead>\n",
              "    <tr style=\"text-align: right;\">\n",
              "      <th></th>\n",
              "      <th>Quận</th>\n",
              "      <th>Loại_BDS</th>\n",
              "      <th>Pháp_lý</th>\n",
              "      <th>Số_tầng</th>\n",
              "      <th>Số_phòng</th>\n",
              "      <th>Diện_tích</th>\n",
              "      <th>Dài</th>\n",
              "      <th>Rộng</th>\n",
              "      <th>Giá</th>\n",
              "    </tr>\n",
              "  </thead>\n",
              "  <tbody>\n",
              "    <tr>\n",
              "      <th>0</th>\n",
              "      <td>Huyện Bình Chánh</td>\n",
              "      <td>Nhà mặt tiền</td>\n",
              "      <td>Sổ hồng/ Sổ đỏ</td>\n",
              "      <td>1</td>\n",
              "      <td>4</td>\n",
              "      <td>100 m2</td>\n",
              "      <td>20m</td>\n",
              "      <td>5m</td>\n",
              "      <td>1,2 tỷ</td>\n",
              "    </tr>\n",
              "    <tr>\n",
              "      <th>1</th>\n",
              "      <td>Huyện Củ Chi</td>\n",
              "      <td>Đất thổ cư, đất ở</td>\n",
              "      <td>Sổ hồng/ Sổ đỏ</td>\n",
              "      <td>---</td>\n",
              "      <td>---</td>\n",
              "      <td>3.100 m2</td>\n",
              "      <td>50m</td>\n",
              "      <td>30m</td>\n",
              "      <td>2,5 triệu / m2</td>\n",
              "    </tr>\n",
              "    <tr>\n",
              "      <th>2</th>\n",
              "      <td>Huyện Củ Chi</td>\n",
              "      <td>Đất thổ cư, đất ở</td>\n",
              "      <td>Sổ hồng/ Sổ đỏ</td>\n",
              "      <td>---</td>\n",
              "      <td>---</td>\n",
              "      <td>5.002 m2</td>\n",
              "      <td>205m</td>\n",
              "      <td>45m</td>\n",
              "      <td>12,75 tỷ</td>\n",
              "    </tr>\n",
              "    <tr>\n",
              "      <th>3</th>\n",
              "      <td>Huyện Củ Chi</td>\n",
              "      <td>Đất thổ cư, đất ở</td>\n",
              "      <td>---</td>\n",
              "      <td>---</td>\n",
              "      <td>---</td>\n",
              "      <td>4.147 m2</td>\n",
              "      <td>---</td>\n",
              "      <td>---</td>\n",
              "      <td>6,39 tỷ</td>\n",
              "    </tr>\n",
              "    <tr>\n",
              "      <th>4</th>\n",
              "      <td>Huyện Củ Chi</td>\n",
              "      <td>Đất thổ cư, đất ở</td>\n",
              "      <td>Sổ hồng/ Sổ đỏ</td>\n",
              "      <td>---</td>\n",
              "      <td>---</td>\n",
              "      <td>1.635 m2</td>\n",
              "      <td>82m</td>\n",
              "      <td>20m</td>\n",
              "      <td>9 tỷ</td>\n",
              "    </tr>\n",
              "  </tbody>\n",
              "</table>\n",
              "</div>\n",
              "      <button class=\"colab-df-convert\" onclick=\"convertToInteractive('df-49ac2f44-0a42-45c6-bb62-da77905c0e0d')\"\n",
              "              title=\"Convert this dataframe to an interactive table.\"\n",
              "              style=\"display:none;\">\n",
              "        \n",
              "  <svg xmlns=\"http://www.w3.org/2000/svg\" height=\"24px\"viewBox=\"0 0 24 24\"\n",
              "       width=\"24px\">\n",
              "    <path d=\"M0 0h24v24H0V0z\" fill=\"none\"/>\n",
              "    <path d=\"M18.56 5.44l.94 2.06.94-2.06 2.06-.94-2.06-.94-.94-2.06-.94 2.06-2.06.94zm-11 1L8.5 8.5l.94-2.06 2.06-.94-2.06-.94L8.5 2.5l-.94 2.06-2.06.94zm10 10l.94 2.06.94-2.06 2.06-.94-2.06-.94-.94-2.06-.94 2.06-2.06.94z\"/><path d=\"M17.41 7.96l-1.37-1.37c-.4-.4-.92-.59-1.43-.59-.52 0-1.04.2-1.43.59L10.3 9.45l-7.72 7.72c-.78.78-.78 2.05 0 2.83L4 21.41c.39.39.9.59 1.41.59.51 0 1.02-.2 1.41-.59l7.78-7.78 2.81-2.81c.8-.78.8-2.07 0-2.86zM5.41 20L4 18.59l7.72-7.72 1.47 1.35L5.41 20z\"/>\n",
              "  </svg>\n",
              "      </button>\n",
              "      \n",
              "  <style>\n",
              "    .colab-df-container {\n",
              "      display:flex;\n",
              "      flex-wrap:wrap;\n",
              "      gap: 12px;\n",
              "    }\n",
              "\n",
              "    .colab-df-convert {\n",
              "      background-color: #E8F0FE;\n",
              "      border: none;\n",
              "      border-radius: 50%;\n",
              "      cursor: pointer;\n",
              "      display: none;\n",
              "      fill: #1967D2;\n",
              "      height: 32px;\n",
              "      padding: 0 0 0 0;\n",
              "      width: 32px;\n",
              "    }\n",
              "\n",
              "    .colab-df-convert:hover {\n",
              "      background-color: #E2EBFA;\n",
              "      box-shadow: 0px 1px 2px rgba(60, 64, 67, 0.3), 0px 1px 3px 1px rgba(60, 64, 67, 0.15);\n",
              "      fill: #174EA6;\n",
              "    }\n",
              "\n",
              "    [theme=dark] .colab-df-convert {\n",
              "      background-color: #3B4455;\n",
              "      fill: #D2E3FC;\n",
              "    }\n",
              "\n",
              "    [theme=dark] .colab-df-convert:hover {\n",
              "      background-color: #434B5C;\n",
              "      box-shadow: 0px 1px 3px 1px rgba(0, 0, 0, 0.15);\n",
              "      filter: drop-shadow(0px 1px 2px rgba(0, 0, 0, 0.3));\n",
              "      fill: #FFFFFF;\n",
              "    }\n",
              "  </style>\n",
              "\n",
              "      <script>\n",
              "        const buttonEl =\n",
              "          document.querySelector('#df-49ac2f44-0a42-45c6-bb62-da77905c0e0d button.colab-df-convert');\n",
              "        buttonEl.style.display =\n",
              "          google.colab.kernel.accessAllowed ? 'block' : 'none';\n",
              "\n",
              "        async function convertToInteractive(key) {\n",
              "          const element = document.querySelector('#df-49ac2f44-0a42-45c6-bb62-da77905c0e0d');\n",
              "          const dataTable =\n",
              "            await google.colab.kernel.invokeFunction('convertToInteractive',\n",
              "                                                     [key], {});\n",
              "          if (!dataTable) return;\n",
              "\n",
              "          const docLinkHtml = 'Like what you see? Visit the ' +\n",
              "            '<a target=\"_blank\" href=https://colab.research.google.com/notebooks/data_table.ipynb>data table notebook</a>'\n",
              "            + ' to learn more about interactive tables.';\n",
              "          element.innerHTML = '';\n",
              "          dataTable['output_type'] = 'display_data';\n",
              "          await google.colab.output.renderOutput(dataTable, element);\n",
              "          const docLink = document.createElement('div');\n",
              "          docLink.innerHTML = docLinkHtml;\n",
              "          element.appendChild(docLink);\n",
              "        }\n",
              "      </script>\n",
              "    </div>\n",
              "  </div>\n",
              "  "
            ]
          },
          "metadata": {},
          "execution_count": 5
        }
      ]
    },
    {
      "cell_type": "code",
      "source": [
        "df = df_org.copy()"
      ],
      "metadata": {
        "id": "kviL8FV021Fw"
      },
      "execution_count": 6,
      "outputs": []
    },
    {
      "cell_type": "code",
      "source": [
        "df[df == \"---\"] = np.nan"
      ],
      "metadata": {
        "id": "vnDcwtX5rybq"
      },
      "execution_count": 7,
      "outputs": []
    },
    {
      "cell_type": "code",
      "source": [
        "df.info()"
      ],
      "metadata": {
        "id": "vXYhgOFGX7JW",
        "colab": {
          "base_uri": "https://localhost:8080/"
        },
        "outputId": "45366e4b-3cb7-4c29-fa67-b880aa41ae60"
      },
      "execution_count": 8,
      "outputs": [
        {
          "output_type": "stream",
          "name": "stdout",
          "text": [
            "<class 'pandas.core.frame.DataFrame'>\n",
            "Int64Index: 20000 entries, 0 to 9999\n",
            "Data columns (total 9 columns):\n",
            " #   Column     Non-Null Count  Dtype \n",
            "---  ------     --------------  ----- \n",
            " 0   Quận       20000 non-null  object\n",
            " 1   Loại_BDS   20000 non-null  object\n",
            " 2   Pháp_lý    14109 non-null  object\n",
            " 3   Số_tầng    17092 non-null  object\n",
            " 4   Số_phòng   17079 non-null  object\n",
            " 5   Diện_tích  20000 non-null  object\n",
            " 6   Dài        16847 non-null  object\n",
            " 7   Rộng       17485 non-null  object\n",
            " 8   Giá        20000 non-null  object\n",
            "dtypes: object(9)\n",
            "memory usage: 1.5+ MB\n"
          ]
        }
      ]
    },
    {
      "cell_type": "markdown",
      "source": [
        "##**Let's do some statistics**"
      ],
      "metadata": {
        "id": "8BS8aT8Tg5PN"
      }
    },
    {
      "cell_type": "code",
      "source": [
        "df.describe()"
      ],
      "metadata": {
        "id": "Hgo0EN0Nak5g",
        "colab": {
          "base_uri": "https://localhost:8080/",
          "height": 175
        },
        "outputId": "d6cbd781-5d91-49c8-a873-d92f8cf032fe"
      },
      "execution_count": 9,
      "outputs": [
        {
          "output_type": "execute_result",
          "data": {
            "text/plain": [
              "               Quận       Loại_BDS         Pháp_lý Số_tầng Số_phòng Diện_tích  \\\n",
              "count         20000          20000           14109   17092    17079     20000   \n",
              "unique           45             14               4      37       73       740   \n",
              "top     Quận Gò Vấp  Nhà trong hẻm  Sổ hồng/ Sổ đỏ       2        4    100 m2   \n",
              "freq           2891           8409           13780    3849     3923       948   \n",
              "\n",
              "          Dài   Rộng      Giá  \n",
              "count   16847  17485    20000  \n",
              "unique    330    281     1159  \n",
              "top       20m     4m   25 tỷ   \n",
              "freq     2097   4039      211  "
            ],
            "text/html": [
              "\n",
              "  <div id=\"df-0dc5ac76-5048-4fad-8ad8-fe56840b9f80\">\n",
              "    <div class=\"colab-df-container\">\n",
              "      <div>\n",
              "<style scoped>\n",
              "    .dataframe tbody tr th:only-of-type {\n",
              "        vertical-align: middle;\n",
              "    }\n",
              "\n",
              "    .dataframe tbody tr th {\n",
              "        vertical-align: top;\n",
              "    }\n",
              "\n",
              "    .dataframe thead th {\n",
              "        text-align: right;\n",
              "    }\n",
              "</style>\n",
              "<table border=\"1\" class=\"dataframe\">\n",
              "  <thead>\n",
              "    <tr style=\"text-align: right;\">\n",
              "      <th></th>\n",
              "      <th>Quận</th>\n",
              "      <th>Loại_BDS</th>\n",
              "      <th>Pháp_lý</th>\n",
              "      <th>Số_tầng</th>\n",
              "      <th>Số_phòng</th>\n",
              "      <th>Diện_tích</th>\n",
              "      <th>Dài</th>\n",
              "      <th>Rộng</th>\n",
              "      <th>Giá</th>\n",
              "    </tr>\n",
              "  </thead>\n",
              "  <tbody>\n",
              "    <tr>\n",
              "      <th>count</th>\n",
              "      <td>20000</td>\n",
              "      <td>20000</td>\n",
              "      <td>14109</td>\n",
              "      <td>17092</td>\n",
              "      <td>17079</td>\n",
              "      <td>20000</td>\n",
              "      <td>16847</td>\n",
              "      <td>17485</td>\n",
              "      <td>20000</td>\n",
              "    </tr>\n",
              "    <tr>\n",
              "      <th>unique</th>\n",
              "      <td>45</td>\n",
              "      <td>14</td>\n",
              "      <td>4</td>\n",
              "      <td>37</td>\n",
              "      <td>73</td>\n",
              "      <td>740</td>\n",
              "      <td>330</td>\n",
              "      <td>281</td>\n",
              "      <td>1159</td>\n",
              "    </tr>\n",
              "    <tr>\n",
              "      <th>top</th>\n",
              "      <td>Quận Gò Vấp</td>\n",
              "      <td>Nhà trong hẻm</td>\n",
              "      <td>Sổ hồng/ Sổ đỏ</td>\n",
              "      <td>2</td>\n",
              "      <td>4</td>\n",
              "      <td>100 m2</td>\n",
              "      <td>20m</td>\n",
              "      <td>4m</td>\n",
              "      <td>25 tỷ</td>\n",
              "    </tr>\n",
              "    <tr>\n",
              "      <th>freq</th>\n",
              "      <td>2891</td>\n",
              "      <td>8409</td>\n",
              "      <td>13780</td>\n",
              "      <td>3849</td>\n",
              "      <td>3923</td>\n",
              "      <td>948</td>\n",
              "      <td>2097</td>\n",
              "      <td>4039</td>\n",
              "      <td>211</td>\n",
              "    </tr>\n",
              "  </tbody>\n",
              "</table>\n",
              "</div>\n",
              "      <button class=\"colab-df-convert\" onclick=\"convertToInteractive('df-0dc5ac76-5048-4fad-8ad8-fe56840b9f80')\"\n",
              "              title=\"Convert this dataframe to an interactive table.\"\n",
              "              style=\"display:none;\">\n",
              "        \n",
              "  <svg xmlns=\"http://www.w3.org/2000/svg\" height=\"24px\"viewBox=\"0 0 24 24\"\n",
              "       width=\"24px\">\n",
              "    <path d=\"M0 0h24v24H0V0z\" fill=\"none\"/>\n",
              "    <path d=\"M18.56 5.44l.94 2.06.94-2.06 2.06-.94-2.06-.94-.94-2.06-.94 2.06-2.06.94zm-11 1L8.5 8.5l.94-2.06 2.06-.94-2.06-.94L8.5 2.5l-.94 2.06-2.06.94zm10 10l.94 2.06.94-2.06 2.06-.94-2.06-.94-.94-2.06-.94 2.06-2.06.94z\"/><path d=\"M17.41 7.96l-1.37-1.37c-.4-.4-.92-.59-1.43-.59-.52 0-1.04.2-1.43.59L10.3 9.45l-7.72 7.72c-.78.78-.78 2.05 0 2.83L4 21.41c.39.39.9.59 1.41.59.51 0 1.02-.2 1.41-.59l7.78-7.78 2.81-2.81c.8-.78.8-2.07 0-2.86zM5.41 20L4 18.59l7.72-7.72 1.47 1.35L5.41 20z\"/>\n",
              "  </svg>\n",
              "      </button>\n",
              "      \n",
              "  <style>\n",
              "    .colab-df-container {\n",
              "      display:flex;\n",
              "      flex-wrap:wrap;\n",
              "      gap: 12px;\n",
              "    }\n",
              "\n",
              "    .colab-df-convert {\n",
              "      background-color: #E8F0FE;\n",
              "      border: none;\n",
              "      border-radius: 50%;\n",
              "      cursor: pointer;\n",
              "      display: none;\n",
              "      fill: #1967D2;\n",
              "      height: 32px;\n",
              "      padding: 0 0 0 0;\n",
              "      width: 32px;\n",
              "    }\n",
              "\n",
              "    .colab-df-convert:hover {\n",
              "      background-color: #E2EBFA;\n",
              "      box-shadow: 0px 1px 2px rgba(60, 64, 67, 0.3), 0px 1px 3px 1px rgba(60, 64, 67, 0.15);\n",
              "      fill: #174EA6;\n",
              "    }\n",
              "\n",
              "    [theme=dark] .colab-df-convert {\n",
              "      background-color: #3B4455;\n",
              "      fill: #D2E3FC;\n",
              "    }\n",
              "\n",
              "    [theme=dark] .colab-df-convert:hover {\n",
              "      background-color: #434B5C;\n",
              "      box-shadow: 0px 1px 3px 1px rgba(0, 0, 0, 0.15);\n",
              "      filter: drop-shadow(0px 1px 2px rgba(0, 0, 0, 0.3));\n",
              "      fill: #FFFFFF;\n",
              "    }\n",
              "  </style>\n",
              "\n",
              "      <script>\n",
              "        const buttonEl =\n",
              "          document.querySelector('#df-0dc5ac76-5048-4fad-8ad8-fe56840b9f80 button.colab-df-convert');\n",
              "        buttonEl.style.display =\n",
              "          google.colab.kernel.accessAllowed ? 'block' : 'none';\n",
              "\n",
              "        async function convertToInteractive(key) {\n",
              "          const element = document.querySelector('#df-0dc5ac76-5048-4fad-8ad8-fe56840b9f80');\n",
              "          const dataTable =\n",
              "            await google.colab.kernel.invokeFunction('convertToInteractive',\n",
              "                                                     [key], {});\n",
              "          if (!dataTable) return;\n",
              "\n",
              "          const docLinkHtml = 'Like what you see? Visit the ' +\n",
              "            '<a target=\"_blank\" href=https://colab.research.google.com/notebooks/data_table.ipynb>data table notebook</a>'\n",
              "            + ' to learn more about interactive tables.';\n",
              "          element.innerHTML = '';\n",
              "          dataTable['output_type'] = 'display_data';\n",
              "          await google.colab.output.renderOutput(dataTable, element);\n",
              "          const docLink = document.createElement('div');\n",
              "          docLink.innerHTML = docLinkHtml;\n",
              "          element.appendChild(docLink);\n",
              "        }\n",
              "      </script>\n",
              "    </div>\n",
              "  </div>\n",
              "  "
            ]
          },
          "metadata": {},
          "execution_count": 9
        }
      ]
    },
    {
      "cell_type": "code",
      "source": [
        "df.head()"
      ],
      "metadata": {
        "id": "KmkrWViLq2f7",
        "colab": {
          "base_uri": "https://localhost:8080/",
          "height": 206
        },
        "outputId": "a13bfbe2-05e4-4773-ff94-953a9ed08e0e"
      },
      "execution_count": 10,
      "outputs": [
        {
          "output_type": "execute_result",
          "data": {
            "text/plain": [
              "               Quận           Loại_BDS         Pháp_lý Số_tầng Số_phòng  \\\n",
              "0  Huyện Bình Chánh       Nhà mặt tiền  Sổ hồng/ Sổ đỏ       1        4   \n",
              "1      Huyện Củ Chi  Đất thổ cư, đất ở  Sổ hồng/ Sổ đỏ     NaN      NaN   \n",
              "2      Huyện Củ Chi  Đất thổ cư, đất ở  Sổ hồng/ Sổ đỏ     NaN      NaN   \n",
              "3      Huyện Củ Chi  Đất thổ cư, đất ở             NaN     NaN      NaN   \n",
              "4      Huyện Củ Chi  Đất thổ cư, đất ở  Sổ hồng/ Sổ đỏ     NaN      NaN   \n",
              "\n",
              "   Diện_tích   Dài Rộng                Giá  \n",
              "0     100 m2   20m   5m            1,2 tỷ   \n",
              "1   3.100 m2   50m  30m   2,5 triệu / m2    \n",
              "2   5.002 m2  205m  45m          12,75 tỷ   \n",
              "3   4.147 m2   NaN  NaN           6,39 tỷ   \n",
              "4   1.635 m2   82m  20m              9 tỷ   "
            ],
            "text/html": [
              "\n",
              "  <div id=\"df-f1b1b02b-2ce0-4a7e-9a34-8d403d268aaa\">\n",
              "    <div class=\"colab-df-container\">\n",
              "      <div>\n",
              "<style scoped>\n",
              "    .dataframe tbody tr th:only-of-type {\n",
              "        vertical-align: middle;\n",
              "    }\n",
              "\n",
              "    .dataframe tbody tr th {\n",
              "        vertical-align: top;\n",
              "    }\n",
              "\n",
              "    .dataframe thead th {\n",
              "        text-align: right;\n",
              "    }\n",
              "</style>\n",
              "<table border=\"1\" class=\"dataframe\">\n",
              "  <thead>\n",
              "    <tr style=\"text-align: right;\">\n",
              "      <th></th>\n",
              "      <th>Quận</th>\n",
              "      <th>Loại_BDS</th>\n",
              "      <th>Pháp_lý</th>\n",
              "      <th>Số_tầng</th>\n",
              "      <th>Số_phòng</th>\n",
              "      <th>Diện_tích</th>\n",
              "      <th>Dài</th>\n",
              "      <th>Rộng</th>\n",
              "      <th>Giá</th>\n",
              "    </tr>\n",
              "  </thead>\n",
              "  <tbody>\n",
              "    <tr>\n",
              "      <th>0</th>\n",
              "      <td>Huyện Bình Chánh</td>\n",
              "      <td>Nhà mặt tiền</td>\n",
              "      <td>Sổ hồng/ Sổ đỏ</td>\n",
              "      <td>1</td>\n",
              "      <td>4</td>\n",
              "      <td>100 m2</td>\n",
              "      <td>20m</td>\n",
              "      <td>5m</td>\n",
              "      <td>1,2 tỷ</td>\n",
              "    </tr>\n",
              "    <tr>\n",
              "      <th>1</th>\n",
              "      <td>Huyện Củ Chi</td>\n",
              "      <td>Đất thổ cư, đất ở</td>\n",
              "      <td>Sổ hồng/ Sổ đỏ</td>\n",
              "      <td>NaN</td>\n",
              "      <td>NaN</td>\n",
              "      <td>3.100 m2</td>\n",
              "      <td>50m</td>\n",
              "      <td>30m</td>\n",
              "      <td>2,5 triệu / m2</td>\n",
              "    </tr>\n",
              "    <tr>\n",
              "      <th>2</th>\n",
              "      <td>Huyện Củ Chi</td>\n",
              "      <td>Đất thổ cư, đất ở</td>\n",
              "      <td>Sổ hồng/ Sổ đỏ</td>\n",
              "      <td>NaN</td>\n",
              "      <td>NaN</td>\n",
              "      <td>5.002 m2</td>\n",
              "      <td>205m</td>\n",
              "      <td>45m</td>\n",
              "      <td>12,75 tỷ</td>\n",
              "    </tr>\n",
              "    <tr>\n",
              "      <th>3</th>\n",
              "      <td>Huyện Củ Chi</td>\n",
              "      <td>Đất thổ cư, đất ở</td>\n",
              "      <td>NaN</td>\n",
              "      <td>NaN</td>\n",
              "      <td>NaN</td>\n",
              "      <td>4.147 m2</td>\n",
              "      <td>NaN</td>\n",
              "      <td>NaN</td>\n",
              "      <td>6,39 tỷ</td>\n",
              "    </tr>\n",
              "    <tr>\n",
              "      <th>4</th>\n",
              "      <td>Huyện Củ Chi</td>\n",
              "      <td>Đất thổ cư, đất ở</td>\n",
              "      <td>Sổ hồng/ Sổ đỏ</td>\n",
              "      <td>NaN</td>\n",
              "      <td>NaN</td>\n",
              "      <td>1.635 m2</td>\n",
              "      <td>82m</td>\n",
              "      <td>20m</td>\n",
              "      <td>9 tỷ</td>\n",
              "    </tr>\n",
              "  </tbody>\n",
              "</table>\n",
              "</div>\n",
              "      <button class=\"colab-df-convert\" onclick=\"convertToInteractive('df-f1b1b02b-2ce0-4a7e-9a34-8d403d268aaa')\"\n",
              "              title=\"Convert this dataframe to an interactive table.\"\n",
              "              style=\"display:none;\">\n",
              "        \n",
              "  <svg xmlns=\"http://www.w3.org/2000/svg\" height=\"24px\"viewBox=\"0 0 24 24\"\n",
              "       width=\"24px\">\n",
              "    <path d=\"M0 0h24v24H0V0z\" fill=\"none\"/>\n",
              "    <path d=\"M18.56 5.44l.94 2.06.94-2.06 2.06-.94-2.06-.94-.94-2.06-.94 2.06-2.06.94zm-11 1L8.5 8.5l.94-2.06 2.06-.94-2.06-.94L8.5 2.5l-.94 2.06-2.06.94zm10 10l.94 2.06.94-2.06 2.06-.94-2.06-.94-.94-2.06-.94 2.06-2.06.94z\"/><path d=\"M17.41 7.96l-1.37-1.37c-.4-.4-.92-.59-1.43-.59-.52 0-1.04.2-1.43.59L10.3 9.45l-7.72 7.72c-.78.78-.78 2.05 0 2.83L4 21.41c.39.39.9.59 1.41.59.51 0 1.02-.2 1.41-.59l7.78-7.78 2.81-2.81c.8-.78.8-2.07 0-2.86zM5.41 20L4 18.59l7.72-7.72 1.47 1.35L5.41 20z\"/>\n",
              "  </svg>\n",
              "      </button>\n",
              "      \n",
              "  <style>\n",
              "    .colab-df-container {\n",
              "      display:flex;\n",
              "      flex-wrap:wrap;\n",
              "      gap: 12px;\n",
              "    }\n",
              "\n",
              "    .colab-df-convert {\n",
              "      background-color: #E8F0FE;\n",
              "      border: none;\n",
              "      border-radius: 50%;\n",
              "      cursor: pointer;\n",
              "      display: none;\n",
              "      fill: #1967D2;\n",
              "      height: 32px;\n",
              "      padding: 0 0 0 0;\n",
              "      width: 32px;\n",
              "    }\n",
              "\n",
              "    .colab-df-convert:hover {\n",
              "      background-color: #E2EBFA;\n",
              "      box-shadow: 0px 1px 2px rgba(60, 64, 67, 0.3), 0px 1px 3px 1px rgba(60, 64, 67, 0.15);\n",
              "      fill: #174EA6;\n",
              "    }\n",
              "\n",
              "    [theme=dark] .colab-df-convert {\n",
              "      background-color: #3B4455;\n",
              "      fill: #D2E3FC;\n",
              "    }\n",
              "\n",
              "    [theme=dark] .colab-df-convert:hover {\n",
              "      background-color: #434B5C;\n",
              "      box-shadow: 0px 1px 3px 1px rgba(0, 0, 0, 0.15);\n",
              "      filter: drop-shadow(0px 1px 2px rgba(0, 0, 0, 0.3));\n",
              "      fill: #FFFFFF;\n",
              "    }\n",
              "  </style>\n",
              "\n",
              "      <script>\n",
              "        const buttonEl =\n",
              "          document.querySelector('#df-f1b1b02b-2ce0-4a7e-9a34-8d403d268aaa button.colab-df-convert');\n",
              "        buttonEl.style.display =\n",
              "          google.colab.kernel.accessAllowed ? 'block' : 'none';\n",
              "\n",
              "        async function convertToInteractive(key) {\n",
              "          const element = document.querySelector('#df-f1b1b02b-2ce0-4a7e-9a34-8d403d268aaa');\n",
              "          const dataTable =\n",
              "            await google.colab.kernel.invokeFunction('convertToInteractive',\n",
              "                                                     [key], {});\n",
              "          if (!dataTable) return;\n",
              "\n",
              "          const docLinkHtml = 'Like what you see? Visit the ' +\n",
              "            '<a target=\"_blank\" href=https://colab.research.google.com/notebooks/data_table.ipynb>data table notebook</a>'\n",
              "            + ' to learn more about interactive tables.';\n",
              "          element.innerHTML = '';\n",
              "          dataTable['output_type'] = 'display_data';\n",
              "          await google.colab.output.renderOutput(dataTable, element);\n",
              "          const docLink = document.createElement('div');\n",
              "          docLink.innerHTML = docLinkHtml;\n",
              "          element.appendChild(docLink);\n",
              "        }\n",
              "      </script>\n",
              "    </div>\n",
              "  </div>\n",
              "  "
            ]
          },
          "metadata": {},
          "execution_count": 10
        }
      ]
    },
    {
      "cell_type": "markdown",
      "source": [
        "#**Step3: Cleaning data**"
      ],
      "metadata": {
        "id": "9pmOMGwstqkB"
      }
    },
    {
      "cell_type": "code",
      "source": [
        "df_renamed = df.rename(columns = {\"Quận\":\"district\", \n",
        "                                  \"Loại_BDS\":\"type_of_housing\",\n",
        "                                 \"Pháp_lý\":\"legal_paper\",\n",
        "                                  \"Số_tầng\":\"num_floors\",\n",
        "                                 \"Số_phòng\":\"num_bed_rooms\",\n",
        "                                  \"Diện_tích\":\"squared_meter_area\",\n",
        "                                 \"Dài\":\"length_meter\", \"Rộng\":\"width_meter\", \"Giá\":\"price\"})\n",
        "df_renamed['legal_paper'] = df_renamed['legal_paper'].fillna('Không có giấy')\n",
        "df_renamed = df_renamed.dropna()\n",
        "df_renamed = df_renamed.reset_index()\n",
        "\n",
        "# The length of the dataset after dropping null values\n",
        "print(\"The length of the dataset after dropping null values is\", str(len(df_renamed)), \"rows.\")"
      ],
      "metadata": {
        "id": "TorCtR3jfEOl",
        "colab": {
          "base_uri": "https://localhost:8080/"
        },
        "outputId": "94e4a573-fe1f-4a8b-94c2-5cfd4b30e64b"
      },
      "execution_count": 11,
      "outputs": [
        {
          "output_type": "stream",
          "name": "stdout",
          "text": [
            "The length of the dataset after dropping null values is 14099 rows.\n"
          ]
        }
      ]
    },
    {
      "cell_type": "code",
      "source": [
        "df_renamed.head()"
      ],
      "metadata": {
        "id": "7J8obpxDso5z",
        "colab": {
          "base_uri": "https://localhost:8080/",
          "height": 206
        },
        "outputId": "6bfc653d-c3d4-44ae-e270-9943e5a451f6"
      },
      "execution_count": 12,
      "outputs": [
        {
          "output_type": "execute_result",
          "data": {
            "text/plain": [
              "   index           district type_of_housing     legal_paper num_floors  \\\n",
              "0      0   Huyện Bình Chánh    Nhà mặt tiền  Sổ hồng/ Sổ đỏ          1   \n",
              "1      6  Thành phố Thủ Đức    Nhà mặt tiền   Không có giấy          3   \n",
              "2      8  Thành phố Thủ Đức    Nhà mặt tiền  Sổ hồng/ Sổ đỏ          4   \n",
              "3     11  Thành phố Thủ Đức   Nhà trong hẻm  Sổ hồng/ Sổ đỏ          3   \n",
              "4     14   Huyện Bình Chánh    Nhà mặt tiền   Không có giấy          1   \n",
              "\n",
              "  num_bed_rooms squared_meter_area length_meter width_meter      price  \n",
              "0             4             100 m2          20m          5m    1,2 tỷ   \n",
              "1             4              55 m2          11m          5m      7 tỷ   \n",
              "2             4              72 m2          14m          5m    9,2 tỷ   \n",
              "3             3              73 m2          12m        6,6m   4,99 tỷ   \n",
              "4             4             100 m2          20m          5m      1 tỷ   "
            ],
            "text/html": [
              "\n",
              "  <div id=\"df-f9b4a600-152c-45bd-a3b0-edd38df06e29\">\n",
              "    <div class=\"colab-df-container\">\n",
              "      <div>\n",
              "<style scoped>\n",
              "    .dataframe tbody tr th:only-of-type {\n",
              "        vertical-align: middle;\n",
              "    }\n",
              "\n",
              "    .dataframe tbody tr th {\n",
              "        vertical-align: top;\n",
              "    }\n",
              "\n",
              "    .dataframe thead th {\n",
              "        text-align: right;\n",
              "    }\n",
              "</style>\n",
              "<table border=\"1\" class=\"dataframe\">\n",
              "  <thead>\n",
              "    <tr style=\"text-align: right;\">\n",
              "      <th></th>\n",
              "      <th>index</th>\n",
              "      <th>district</th>\n",
              "      <th>type_of_housing</th>\n",
              "      <th>legal_paper</th>\n",
              "      <th>num_floors</th>\n",
              "      <th>num_bed_rooms</th>\n",
              "      <th>squared_meter_area</th>\n",
              "      <th>length_meter</th>\n",
              "      <th>width_meter</th>\n",
              "      <th>price</th>\n",
              "    </tr>\n",
              "  </thead>\n",
              "  <tbody>\n",
              "    <tr>\n",
              "      <th>0</th>\n",
              "      <td>0</td>\n",
              "      <td>Huyện Bình Chánh</td>\n",
              "      <td>Nhà mặt tiền</td>\n",
              "      <td>Sổ hồng/ Sổ đỏ</td>\n",
              "      <td>1</td>\n",
              "      <td>4</td>\n",
              "      <td>100 m2</td>\n",
              "      <td>20m</td>\n",
              "      <td>5m</td>\n",
              "      <td>1,2 tỷ</td>\n",
              "    </tr>\n",
              "    <tr>\n",
              "      <th>1</th>\n",
              "      <td>6</td>\n",
              "      <td>Thành phố Thủ Đức</td>\n",
              "      <td>Nhà mặt tiền</td>\n",
              "      <td>Không có giấy</td>\n",
              "      <td>3</td>\n",
              "      <td>4</td>\n",
              "      <td>55 m2</td>\n",
              "      <td>11m</td>\n",
              "      <td>5m</td>\n",
              "      <td>7 tỷ</td>\n",
              "    </tr>\n",
              "    <tr>\n",
              "      <th>2</th>\n",
              "      <td>8</td>\n",
              "      <td>Thành phố Thủ Đức</td>\n",
              "      <td>Nhà mặt tiền</td>\n",
              "      <td>Sổ hồng/ Sổ đỏ</td>\n",
              "      <td>4</td>\n",
              "      <td>4</td>\n",
              "      <td>72 m2</td>\n",
              "      <td>14m</td>\n",
              "      <td>5m</td>\n",
              "      <td>9,2 tỷ</td>\n",
              "    </tr>\n",
              "    <tr>\n",
              "      <th>3</th>\n",
              "      <td>11</td>\n",
              "      <td>Thành phố Thủ Đức</td>\n",
              "      <td>Nhà trong hẻm</td>\n",
              "      <td>Sổ hồng/ Sổ đỏ</td>\n",
              "      <td>3</td>\n",
              "      <td>3</td>\n",
              "      <td>73 m2</td>\n",
              "      <td>12m</td>\n",
              "      <td>6,6m</td>\n",
              "      <td>4,99 tỷ</td>\n",
              "    </tr>\n",
              "    <tr>\n",
              "      <th>4</th>\n",
              "      <td>14</td>\n",
              "      <td>Huyện Bình Chánh</td>\n",
              "      <td>Nhà mặt tiền</td>\n",
              "      <td>Không có giấy</td>\n",
              "      <td>1</td>\n",
              "      <td>4</td>\n",
              "      <td>100 m2</td>\n",
              "      <td>20m</td>\n",
              "      <td>5m</td>\n",
              "      <td>1 tỷ</td>\n",
              "    </tr>\n",
              "  </tbody>\n",
              "</table>\n",
              "</div>\n",
              "      <button class=\"colab-df-convert\" onclick=\"convertToInteractive('df-f9b4a600-152c-45bd-a3b0-edd38df06e29')\"\n",
              "              title=\"Convert this dataframe to an interactive table.\"\n",
              "              style=\"display:none;\">\n",
              "        \n",
              "  <svg xmlns=\"http://www.w3.org/2000/svg\" height=\"24px\"viewBox=\"0 0 24 24\"\n",
              "       width=\"24px\">\n",
              "    <path d=\"M0 0h24v24H0V0z\" fill=\"none\"/>\n",
              "    <path d=\"M18.56 5.44l.94 2.06.94-2.06 2.06-.94-2.06-.94-.94-2.06-.94 2.06-2.06.94zm-11 1L8.5 8.5l.94-2.06 2.06-.94-2.06-.94L8.5 2.5l-.94 2.06-2.06.94zm10 10l.94 2.06.94-2.06 2.06-.94-2.06-.94-.94-2.06-.94 2.06-2.06.94z\"/><path d=\"M17.41 7.96l-1.37-1.37c-.4-.4-.92-.59-1.43-.59-.52 0-1.04.2-1.43.59L10.3 9.45l-7.72 7.72c-.78.78-.78 2.05 0 2.83L4 21.41c.39.39.9.59 1.41.59.51 0 1.02-.2 1.41-.59l7.78-7.78 2.81-2.81c.8-.78.8-2.07 0-2.86zM5.41 20L4 18.59l7.72-7.72 1.47 1.35L5.41 20z\"/>\n",
              "  </svg>\n",
              "      </button>\n",
              "      \n",
              "  <style>\n",
              "    .colab-df-container {\n",
              "      display:flex;\n",
              "      flex-wrap:wrap;\n",
              "      gap: 12px;\n",
              "    }\n",
              "\n",
              "    .colab-df-convert {\n",
              "      background-color: #E8F0FE;\n",
              "      border: none;\n",
              "      border-radius: 50%;\n",
              "      cursor: pointer;\n",
              "      display: none;\n",
              "      fill: #1967D2;\n",
              "      height: 32px;\n",
              "      padding: 0 0 0 0;\n",
              "      width: 32px;\n",
              "    }\n",
              "\n",
              "    .colab-df-convert:hover {\n",
              "      background-color: #E2EBFA;\n",
              "      box-shadow: 0px 1px 2px rgba(60, 64, 67, 0.3), 0px 1px 3px 1px rgba(60, 64, 67, 0.15);\n",
              "      fill: #174EA6;\n",
              "    }\n",
              "\n",
              "    [theme=dark] .colab-df-convert {\n",
              "      background-color: #3B4455;\n",
              "      fill: #D2E3FC;\n",
              "    }\n",
              "\n",
              "    [theme=dark] .colab-df-convert:hover {\n",
              "      background-color: #434B5C;\n",
              "      box-shadow: 0px 1px 3px 1px rgba(0, 0, 0, 0.15);\n",
              "      filter: drop-shadow(0px 1px 2px rgba(0, 0, 0, 0.3));\n",
              "      fill: #FFFFFF;\n",
              "    }\n",
              "  </style>\n",
              "\n",
              "      <script>\n",
              "        const buttonEl =\n",
              "          document.querySelector('#df-f9b4a600-152c-45bd-a3b0-edd38df06e29 button.colab-df-convert');\n",
              "        buttonEl.style.display =\n",
              "          google.colab.kernel.accessAllowed ? 'block' : 'none';\n",
              "\n",
              "        async function convertToInteractive(key) {\n",
              "          const element = document.querySelector('#df-f9b4a600-152c-45bd-a3b0-edd38df06e29');\n",
              "          const dataTable =\n",
              "            await google.colab.kernel.invokeFunction('convertToInteractive',\n",
              "                                                     [key], {});\n",
              "          if (!dataTable) return;\n",
              "\n",
              "          const docLinkHtml = 'Like what you see? Visit the ' +\n",
              "            '<a target=\"_blank\" href=https://colab.research.google.com/notebooks/data_table.ipynb>data table notebook</a>'\n",
              "            + ' to learn more about interactive tables.';\n",
              "          element.innerHTML = '';\n",
              "          dataTable['output_type'] = 'display_data';\n",
              "          await google.colab.output.renderOutput(dataTable, element);\n",
              "          const docLink = document.createElement('div');\n",
              "          docLink.innerHTML = docLinkHtml;\n",
              "          element.appendChild(docLink);\n",
              "        }\n",
              "      </script>\n",
              "    </div>\n",
              "  </div>\n",
              "  "
            ]
          },
          "metadata": {},
          "execution_count": 12
        }
      ]
    },
    {
      "cell_type": "markdown",
      "source": [
        "##**Cleaning data within each columns**"
      ],
      "metadata": {
        "id": "ZODDOcgLvY_C"
      }
    },
    {
      "cell_type": "code",
      "source": [
        "df_renamed.info()"
      ],
      "metadata": {
        "id": "2M84gWQh4WH3",
        "colab": {
          "base_uri": "https://localhost:8080/"
        },
        "outputId": "2d20511a-b746-4864-ad3e-91fc25360bb4"
      },
      "execution_count": 13,
      "outputs": [
        {
          "output_type": "stream",
          "name": "stdout",
          "text": [
            "<class 'pandas.core.frame.DataFrame'>\n",
            "RangeIndex: 14099 entries, 0 to 14098\n",
            "Data columns (total 10 columns):\n",
            " #   Column              Non-Null Count  Dtype \n",
            "---  ------              --------------  ----- \n",
            " 0   index               14099 non-null  int64 \n",
            " 1   district            14099 non-null  object\n",
            " 2   type_of_housing     14099 non-null  object\n",
            " 3   legal_paper         14099 non-null  object\n",
            " 4   num_floors          14099 non-null  object\n",
            " 5   num_bed_rooms       14099 non-null  object\n",
            " 6   squared_meter_area  14099 non-null  object\n",
            " 7   length_meter        14099 non-null  object\n",
            " 8   width_meter         14099 non-null  object\n",
            " 9   price               14099 non-null  object\n",
            "dtypes: int64(1), object(9)\n",
            "memory usage: 1.1+ MB\n"
          ]
        }
      ]
    },
    {
      "cell_type": "code",
      "source": [
        "df_renamed.head()"
      ],
      "metadata": {
        "id": "5puqnJzj7QPY",
        "colab": {
          "base_uri": "https://localhost:8080/",
          "height": 206
        },
        "outputId": "c628c16f-a3ce-42fe-c34c-6c73da2e1147"
      },
      "execution_count": 14,
      "outputs": [
        {
          "output_type": "execute_result",
          "data": {
            "text/plain": [
              "   index           district type_of_housing     legal_paper num_floors  \\\n",
              "0      0   Huyện Bình Chánh    Nhà mặt tiền  Sổ hồng/ Sổ đỏ          1   \n",
              "1      6  Thành phố Thủ Đức    Nhà mặt tiền   Không có giấy          3   \n",
              "2      8  Thành phố Thủ Đức    Nhà mặt tiền  Sổ hồng/ Sổ đỏ          4   \n",
              "3     11  Thành phố Thủ Đức   Nhà trong hẻm  Sổ hồng/ Sổ đỏ          3   \n",
              "4     14   Huyện Bình Chánh    Nhà mặt tiền   Không có giấy          1   \n",
              "\n",
              "  num_bed_rooms squared_meter_area length_meter width_meter      price  \n",
              "0             4             100 m2          20m          5m    1,2 tỷ   \n",
              "1             4              55 m2          11m          5m      7 tỷ   \n",
              "2             4              72 m2          14m          5m    9,2 tỷ   \n",
              "3             3              73 m2          12m        6,6m   4,99 tỷ   \n",
              "4             4             100 m2          20m          5m      1 tỷ   "
            ],
            "text/html": [
              "\n",
              "  <div id=\"df-42abecc0-c1ae-4f65-bd24-6a49de6a91ee\">\n",
              "    <div class=\"colab-df-container\">\n",
              "      <div>\n",
              "<style scoped>\n",
              "    .dataframe tbody tr th:only-of-type {\n",
              "        vertical-align: middle;\n",
              "    }\n",
              "\n",
              "    .dataframe tbody tr th {\n",
              "        vertical-align: top;\n",
              "    }\n",
              "\n",
              "    .dataframe thead th {\n",
              "        text-align: right;\n",
              "    }\n",
              "</style>\n",
              "<table border=\"1\" class=\"dataframe\">\n",
              "  <thead>\n",
              "    <tr style=\"text-align: right;\">\n",
              "      <th></th>\n",
              "      <th>index</th>\n",
              "      <th>district</th>\n",
              "      <th>type_of_housing</th>\n",
              "      <th>legal_paper</th>\n",
              "      <th>num_floors</th>\n",
              "      <th>num_bed_rooms</th>\n",
              "      <th>squared_meter_area</th>\n",
              "      <th>length_meter</th>\n",
              "      <th>width_meter</th>\n",
              "      <th>price</th>\n",
              "    </tr>\n",
              "  </thead>\n",
              "  <tbody>\n",
              "    <tr>\n",
              "      <th>0</th>\n",
              "      <td>0</td>\n",
              "      <td>Huyện Bình Chánh</td>\n",
              "      <td>Nhà mặt tiền</td>\n",
              "      <td>Sổ hồng/ Sổ đỏ</td>\n",
              "      <td>1</td>\n",
              "      <td>4</td>\n",
              "      <td>100 m2</td>\n",
              "      <td>20m</td>\n",
              "      <td>5m</td>\n",
              "      <td>1,2 tỷ</td>\n",
              "    </tr>\n",
              "    <tr>\n",
              "      <th>1</th>\n",
              "      <td>6</td>\n",
              "      <td>Thành phố Thủ Đức</td>\n",
              "      <td>Nhà mặt tiền</td>\n",
              "      <td>Không có giấy</td>\n",
              "      <td>3</td>\n",
              "      <td>4</td>\n",
              "      <td>55 m2</td>\n",
              "      <td>11m</td>\n",
              "      <td>5m</td>\n",
              "      <td>7 tỷ</td>\n",
              "    </tr>\n",
              "    <tr>\n",
              "      <th>2</th>\n",
              "      <td>8</td>\n",
              "      <td>Thành phố Thủ Đức</td>\n",
              "      <td>Nhà mặt tiền</td>\n",
              "      <td>Sổ hồng/ Sổ đỏ</td>\n",
              "      <td>4</td>\n",
              "      <td>4</td>\n",
              "      <td>72 m2</td>\n",
              "      <td>14m</td>\n",
              "      <td>5m</td>\n",
              "      <td>9,2 tỷ</td>\n",
              "    </tr>\n",
              "    <tr>\n",
              "      <th>3</th>\n",
              "      <td>11</td>\n",
              "      <td>Thành phố Thủ Đức</td>\n",
              "      <td>Nhà trong hẻm</td>\n",
              "      <td>Sổ hồng/ Sổ đỏ</td>\n",
              "      <td>3</td>\n",
              "      <td>3</td>\n",
              "      <td>73 m2</td>\n",
              "      <td>12m</td>\n",
              "      <td>6,6m</td>\n",
              "      <td>4,99 tỷ</td>\n",
              "    </tr>\n",
              "    <tr>\n",
              "      <th>4</th>\n",
              "      <td>14</td>\n",
              "      <td>Huyện Bình Chánh</td>\n",
              "      <td>Nhà mặt tiền</td>\n",
              "      <td>Không có giấy</td>\n",
              "      <td>1</td>\n",
              "      <td>4</td>\n",
              "      <td>100 m2</td>\n",
              "      <td>20m</td>\n",
              "      <td>5m</td>\n",
              "      <td>1 tỷ</td>\n",
              "    </tr>\n",
              "  </tbody>\n",
              "</table>\n",
              "</div>\n",
              "      <button class=\"colab-df-convert\" onclick=\"convertToInteractive('df-42abecc0-c1ae-4f65-bd24-6a49de6a91ee')\"\n",
              "              title=\"Convert this dataframe to an interactive table.\"\n",
              "              style=\"display:none;\">\n",
              "        \n",
              "  <svg xmlns=\"http://www.w3.org/2000/svg\" height=\"24px\"viewBox=\"0 0 24 24\"\n",
              "       width=\"24px\">\n",
              "    <path d=\"M0 0h24v24H0V0z\" fill=\"none\"/>\n",
              "    <path d=\"M18.56 5.44l.94 2.06.94-2.06 2.06-.94-2.06-.94-.94-2.06-.94 2.06-2.06.94zm-11 1L8.5 8.5l.94-2.06 2.06-.94-2.06-.94L8.5 2.5l-.94 2.06-2.06.94zm10 10l.94 2.06.94-2.06 2.06-.94-2.06-.94-.94-2.06-.94 2.06-2.06.94z\"/><path d=\"M17.41 7.96l-1.37-1.37c-.4-.4-.92-.59-1.43-.59-.52 0-1.04.2-1.43.59L10.3 9.45l-7.72 7.72c-.78.78-.78 2.05 0 2.83L4 21.41c.39.39.9.59 1.41.59.51 0 1.02-.2 1.41-.59l7.78-7.78 2.81-2.81c.8-.78.8-2.07 0-2.86zM5.41 20L4 18.59l7.72-7.72 1.47 1.35L5.41 20z\"/>\n",
              "  </svg>\n",
              "      </button>\n",
              "      \n",
              "  <style>\n",
              "    .colab-df-container {\n",
              "      display:flex;\n",
              "      flex-wrap:wrap;\n",
              "      gap: 12px;\n",
              "    }\n",
              "\n",
              "    .colab-df-convert {\n",
              "      background-color: #E8F0FE;\n",
              "      border: none;\n",
              "      border-radius: 50%;\n",
              "      cursor: pointer;\n",
              "      display: none;\n",
              "      fill: #1967D2;\n",
              "      height: 32px;\n",
              "      padding: 0 0 0 0;\n",
              "      width: 32px;\n",
              "    }\n",
              "\n",
              "    .colab-df-convert:hover {\n",
              "      background-color: #E2EBFA;\n",
              "      box-shadow: 0px 1px 2px rgba(60, 64, 67, 0.3), 0px 1px 3px 1px rgba(60, 64, 67, 0.15);\n",
              "      fill: #174EA6;\n",
              "    }\n",
              "\n",
              "    [theme=dark] .colab-df-convert {\n",
              "      background-color: #3B4455;\n",
              "      fill: #D2E3FC;\n",
              "    }\n",
              "\n",
              "    [theme=dark] .colab-df-convert:hover {\n",
              "      background-color: #434B5C;\n",
              "      box-shadow: 0px 1px 3px 1px rgba(0, 0, 0, 0.15);\n",
              "      filter: drop-shadow(0px 1px 2px rgba(0, 0, 0, 0.3));\n",
              "      fill: #FFFFFF;\n",
              "    }\n",
              "  </style>\n",
              "\n",
              "      <script>\n",
              "        const buttonEl =\n",
              "          document.querySelector('#df-42abecc0-c1ae-4f65-bd24-6a49de6a91ee button.colab-df-convert');\n",
              "        buttonEl.style.display =\n",
              "          google.colab.kernel.accessAllowed ? 'block' : 'none';\n",
              "\n",
              "        async function convertToInteractive(key) {\n",
              "          const element = document.querySelector('#df-42abecc0-c1ae-4f65-bd24-6a49de6a91ee');\n",
              "          const dataTable =\n",
              "            await google.colab.kernel.invokeFunction('convertToInteractive',\n",
              "                                                     [key], {});\n",
              "          if (!dataTable) return;\n",
              "\n",
              "          const docLinkHtml = 'Like what you see? Visit the ' +\n",
              "            '<a target=\"_blank\" href=https://colab.research.google.com/notebooks/data_table.ipynb>data table notebook</a>'\n",
              "            + ' to learn more about interactive tables.';\n",
              "          element.innerHTML = '';\n",
              "          dataTable['output_type'] = 'display_data';\n",
              "          await google.colab.output.renderOutput(dataTable, element);\n",
              "          const docLink = document.createElement('div');\n",
              "          docLink.innerHTML = docLinkHtml;\n",
              "          element.appendChild(docLink);\n",
              "        }\n",
              "      </script>\n",
              "    </div>\n",
              "  </div>\n",
              "  "
            ]
          },
          "metadata": {},
          "execution_count": 14
        }
      ]
    },
    {
      "cell_type": "markdown",
      "source": [
        "###**District**"
      ],
      "metadata": {
        "id": "ffuCr3HkIKZ1"
      }
    },
    {
      "cell_type": "code",
      "source": [
        "df_renamed['district'] = df_renamed['district'].str.replace('Phước bình ', '').str.strip()\n",
        "df_renamed['district'] = df_renamed['district'].str.replace('Thân Văn Nhiếp ', '').str.strip()\n",
        "df_renamed['district'] = df_renamed['district'].str.replace('Đường số 5 ', '').str.strip()"
      ],
      "metadata": {
        "id": "ON_tC2CQvGQc"
      },
      "execution_count": 15,
      "outputs": []
    },
    {
      "cell_type": "markdown",
      "source": [
        "###**Num_floors**"
      ],
      "metadata": {
        "id": "TyC_pzenIdxZ"
      }
    },
    {
      "cell_type": "code",
      "source": [
        "df_renamed['num_floors'] = df_renamed['num_floors'].astype(int)"
      ],
      "metadata": {
        "id": "LGS6Mojo802W"
      },
      "execution_count": 16,
      "outputs": []
    },
    {
      "cell_type": "markdown",
      "source": [
        "###**Num_beds**"
      ],
      "metadata": {
        "id": "2LusTkyXIhaa"
      }
    },
    {
      "cell_type": "code",
      "source": [
        "df_renamed['num_bed_rooms'] = df_renamed['num_bed_rooms'].astype(int)"
      ],
      "metadata": {
        "id": "hPybU0Qz82ae"
      },
      "execution_count": 17,
      "outputs": []
    },
    {
      "cell_type": "markdown",
      "source": [
        "###**Square_meter_area**"
      ],
      "metadata": {
        "id": "H-GBQoRNIkp3"
      }
    },
    {
      "cell_type": "code",
      "source": [
        "df_renamed['squared_meter_area'] = df_renamed['squared_meter_area'].str.replace(' m2','').str.strip().astype(float)"
      ],
      "metadata": {
        "id": "JmZkLP7f84g3"
      },
      "execution_count": 18,
      "outputs": []
    },
    {
      "cell_type": "markdown",
      "source": [
        "###**Length**"
      ],
      "metadata": {
        "id": "e-GftZD7Ipeb"
      }
    },
    {
      "cell_type": "code",
      "source": [
        "df_renamed['length_meter'] = df_renamed['length_meter'].str.replace('m','').str.strip()"
      ],
      "metadata": {
        "id": "zwlLT6N185-v"
      },
      "execution_count": 19,
      "outputs": []
    },
    {
      "cell_type": "code",
      "source": [
        "df_renamed['length_meter'] = df_renamed['length_meter'].str.replace(',','.').str.strip()"
      ],
      "metadata": {
        "id": "D9TzS4bOAYsw"
      },
      "execution_count": 20,
      "outputs": []
    },
    {
      "cell_type": "code",
      "source": [
        "list_erro = ['E p', '16+', '18..4', '0', '12..5', '17 5']"
      ],
      "metadata": {
        "id": "4yWLAT9-Jf5s"
      },
      "execution_count": 21,
      "outputs": []
    },
    {
      "cell_type": "code",
      "source": [
        "for i in list_erro:\n",
        "  df_renamed.drop(df_renamed[df_renamed['length_meter'] == i ].index, inplace=True)"
      ],
      "metadata": {
        "id": "At2Jh1mTJpTV"
      },
      "execution_count": 22,
      "outputs": []
    },
    {
      "cell_type": "code",
      "source": [
        "df_renamed['length_meter']  = df_renamed['length_meter'].astype(float)"
      ],
      "metadata": {
        "id": "mN5L5tfMAnB3"
      },
      "execution_count": 23,
      "outputs": []
    },
    {
      "cell_type": "markdown",
      "source": [
        "###**Width**"
      ],
      "metadata": {
        "id": "n0sfop8NIx-R"
      }
    },
    {
      "cell_type": "code",
      "source": [
        "df_renamed['width_meter'] = df_renamed['width_meter'].str.replace(',','.').str.strip()"
      ],
      "metadata": {
        "id": "DT321lfnG9H8"
      },
      "execution_count": 24,
      "outputs": []
    },
    {
      "cell_type": "code",
      "source": [
        "df_renamed['width_meter'] = df_renamed['width_meter'].str.replace('m','').str.strip()"
      ],
      "metadata": {
        "id": "Z_yOLbTVOZHa"
      },
      "execution_count": 25,
      "outputs": []
    },
    {
      "cell_type": "code",
      "source": [
        "list_erro1 = ['4(nh L8)', '4.5(nh6)', '4.2(nhà.', '4/4.6', '6.6/7.3', '4/12', '7/10', '4.1/8', '3.1/4', '6/7.5', '4 2', '.6.6', '4.2/8', '05']"
      ],
      "metadata": {
        "id": "nrKFao_WLNJ8"
      },
      "execution_count": 26,
      "outputs": []
    },
    {
      "cell_type": "code",
      "source": [
        "for i in list_erro1:\n",
        "  df_renamed.drop(df_renamed[df_renamed['width_meter'] == i ].index, inplace=True)"
      ],
      "metadata": {
        "id": "xZgy64GM87YP"
      },
      "execution_count": 27,
      "outputs": []
    },
    {
      "cell_type": "code",
      "source": [
        "df_renamed['width_meter'] = df_renamed['width_meter'].astype(float)"
      ],
      "metadata": {
        "id": "6kbsH7dKMRPy"
      },
      "execution_count": 28,
      "outputs": []
    },
    {
      "cell_type": "markdown",
      "source": [
        "###**Price_in_million**"
      ],
      "metadata": {
        "id": "271-Soz2JDjn"
      }
    },
    {
      "cell_type": "code",
      "source": [
        "df_renamed['price'] = df_renamed['price'].str.replace(',','.').str.strip()"
      ],
      "metadata": {
        "id": "TmSan4xmRf1j"
      },
      "execution_count": 29,
      "outputs": []
    },
    {
      "cell_type": "code",
      "source": [
        "df_renamed = df_renamed[df_renamed[\"price\"].str.contains(\"/\\xa0m2\\xa0\\xa0\")==False]"
      ],
      "metadata": {
        "id": "LPo156a2KUoz"
      },
      "execution_count": 30,
      "outputs": []
    },
    {
      "cell_type": "code",
      "source": [
        "df_renamed = df_renamed[df_renamed[\"price\"].str.contains(\"/\\xa0m2\")==False]"
      ],
      "metadata": {
        "id": "wjxGbgfhaqX_"
      },
      "execution_count": 31,
      "outputs": []
    },
    {
      "cell_type": "code",
      "source": [
        "error_list3 = ['999.999 tỷ', '25 tỷ 68 ngàn', 'Thỏa thuận', '49 ngàn', '14 ngàn']"
      ],
      "metadata": {
        "id": "1Wvuej-Ua0J_"
      },
      "execution_count": 32,
      "outputs": []
    },
    {
      "cell_type": "code",
      "source": [
        "for i in error_list3:\n",
        "  df_renamed.drop(df_renamed[df_renamed['price'] == i ].index, inplace=True)"
      ],
      "metadata": {
        "id": "aQdx3CR4bQMX",
        "colab": {
          "base_uri": "https://localhost:8080/"
        },
        "outputId": "b4bd0b0b-91db-4810-8a89-344eb892d9b5"
      },
      "execution_count": 33,
      "outputs": [
        {
          "output_type": "stream",
          "name": "stderr",
          "text": [
            "/usr/local/lib/python3.7/dist-packages/pandas/core/frame.py:4913: SettingWithCopyWarning: \n",
            "A value is trying to be set on a copy of a slice from a DataFrame\n",
            "\n",
            "See the caveats in the documentation: https://pandas.pydata.org/pandas-docs/stable/user_guide/indexing.html#returning-a-view-versus-a-copy\n",
            "  errors=errors,\n"
          ]
        }
      ]
    },
    {
      "cell_type": "code",
      "source": [
        "# Clean and convert all prices to million/m2 instead of VND/m2 or billion/m2\n",
        "df_renamed.loc[df_renamed['price'].str.contains('tỷ'), 'price'] = df_renamed.loc[df_renamed['price'].str.contains('tỷ'), 'price'].str.replace('tỷ','').astype(float) * 1000\n",
        "df_renamed.loc[df_renamed['price'].str.contains('triệu', na=False), 'price'] = df_renamed.loc[df_renamed['price'].str.contains('triệu', na=False), 'price'].str.replace('triệu','').astype(float)"
      ],
      "metadata": {
        "id": "r01EK9V06M8g",
        "colab": {
          "base_uri": "https://localhost:8080/"
        },
        "outputId": "a1f7a53e-618a-4a3d-8434-9bdcbdac1a6d"
      },
      "execution_count": 34,
      "outputs": [
        {
          "output_type": "stream",
          "name": "stderr",
          "text": [
            "/usr/local/lib/python3.7/dist-packages/pandas/core/indexing.py:1773: SettingWithCopyWarning: \n",
            "A value is trying to be set on a copy of a slice from a DataFrame.\n",
            "Try using .loc[row_indexer,col_indexer] = value instead\n",
            "\n",
            "See the caveats in the documentation: https://pandas.pydata.org/pandas-docs/stable/user_guide/indexing.html#returning-a-view-versus-a-copy\n",
            "  self._setitem_single_column(ilocs[0], value, pi)\n"
          ]
        }
      ]
    },
    {
      "cell_type": "code",
      "source": [
        "df_renamed['price'] = df_renamed['price'].astype(float)"
      ],
      "metadata": {
        "id": "aepWPAkAcOTH",
        "colab": {
          "base_uri": "https://localhost:8080/"
        },
        "outputId": "54ac3736-0df9-4c85-fe96-8ba8933f4d2c"
      },
      "execution_count": 35,
      "outputs": [
        {
          "output_type": "stream",
          "name": "stderr",
          "text": [
            "/usr/local/lib/python3.7/dist-packages/ipykernel_launcher.py:1: SettingWithCopyWarning: \n",
            "A value is trying to be set on a copy of a slice from a DataFrame.\n",
            "Try using .loc[row_indexer,col_indexer] = value instead\n",
            "\n",
            "See the caveats in the documentation: https://pandas.pydata.org/pandas-docs/stable/user_guide/indexing.html#returning-a-view-versus-a-copy\n",
            "  \"\"\"Entry point for launching an IPython kernel.\n"
          ]
        }
      ]
    },
    {
      "cell_type": "code",
      "source": [
        "df_renamed.head()"
      ],
      "metadata": {
        "id": "Vixl_aU7bynr",
        "colab": {
          "base_uri": "https://localhost:8080/",
          "height": 206
        },
        "outputId": "1b2785f9-2355-4ea4-9af2-96f2dc79d8f8"
      },
      "execution_count": 36,
      "outputs": [
        {
          "output_type": "execute_result",
          "data": {
            "text/plain": [
              "   index           district type_of_housing     legal_paper  num_floors  \\\n",
              "0      0   Huyện Bình Chánh    Nhà mặt tiền  Sổ hồng/ Sổ đỏ           1   \n",
              "1      6  Thành phố Thủ Đức    Nhà mặt tiền   Không có giấy           3   \n",
              "2      8  Thành phố Thủ Đức    Nhà mặt tiền  Sổ hồng/ Sổ đỏ           4   \n",
              "3     11  Thành phố Thủ Đức   Nhà trong hẻm  Sổ hồng/ Sổ đỏ           3   \n",
              "4     14   Huyện Bình Chánh    Nhà mặt tiền   Không có giấy           1   \n",
              "\n",
              "   num_bed_rooms  squared_meter_area  length_meter  width_meter   price  \n",
              "0              4               100.0          20.0          5.0  1200.0  \n",
              "1              4                55.0          11.0          5.0  7000.0  \n",
              "2              4                72.0          14.0          5.0  9200.0  \n",
              "3              3                73.0          12.0          6.6  4990.0  \n",
              "4              4               100.0          20.0          5.0  1000.0  "
            ],
            "text/html": [
              "\n",
              "  <div id=\"df-b5c2e977-a5ac-40d0-85ea-7494bf200a6e\">\n",
              "    <div class=\"colab-df-container\">\n",
              "      <div>\n",
              "<style scoped>\n",
              "    .dataframe tbody tr th:only-of-type {\n",
              "        vertical-align: middle;\n",
              "    }\n",
              "\n",
              "    .dataframe tbody tr th {\n",
              "        vertical-align: top;\n",
              "    }\n",
              "\n",
              "    .dataframe thead th {\n",
              "        text-align: right;\n",
              "    }\n",
              "</style>\n",
              "<table border=\"1\" class=\"dataframe\">\n",
              "  <thead>\n",
              "    <tr style=\"text-align: right;\">\n",
              "      <th></th>\n",
              "      <th>index</th>\n",
              "      <th>district</th>\n",
              "      <th>type_of_housing</th>\n",
              "      <th>legal_paper</th>\n",
              "      <th>num_floors</th>\n",
              "      <th>num_bed_rooms</th>\n",
              "      <th>squared_meter_area</th>\n",
              "      <th>length_meter</th>\n",
              "      <th>width_meter</th>\n",
              "      <th>price</th>\n",
              "    </tr>\n",
              "  </thead>\n",
              "  <tbody>\n",
              "    <tr>\n",
              "      <th>0</th>\n",
              "      <td>0</td>\n",
              "      <td>Huyện Bình Chánh</td>\n",
              "      <td>Nhà mặt tiền</td>\n",
              "      <td>Sổ hồng/ Sổ đỏ</td>\n",
              "      <td>1</td>\n",
              "      <td>4</td>\n",
              "      <td>100.0</td>\n",
              "      <td>20.0</td>\n",
              "      <td>5.0</td>\n",
              "      <td>1200.0</td>\n",
              "    </tr>\n",
              "    <tr>\n",
              "      <th>1</th>\n",
              "      <td>6</td>\n",
              "      <td>Thành phố Thủ Đức</td>\n",
              "      <td>Nhà mặt tiền</td>\n",
              "      <td>Không có giấy</td>\n",
              "      <td>3</td>\n",
              "      <td>4</td>\n",
              "      <td>55.0</td>\n",
              "      <td>11.0</td>\n",
              "      <td>5.0</td>\n",
              "      <td>7000.0</td>\n",
              "    </tr>\n",
              "    <tr>\n",
              "      <th>2</th>\n",
              "      <td>8</td>\n",
              "      <td>Thành phố Thủ Đức</td>\n",
              "      <td>Nhà mặt tiền</td>\n",
              "      <td>Sổ hồng/ Sổ đỏ</td>\n",
              "      <td>4</td>\n",
              "      <td>4</td>\n",
              "      <td>72.0</td>\n",
              "      <td>14.0</td>\n",
              "      <td>5.0</td>\n",
              "      <td>9200.0</td>\n",
              "    </tr>\n",
              "    <tr>\n",
              "      <th>3</th>\n",
              "      <td>11</td>\n",
              "      <td>Thành phố Thủ Đức</td>\n",
              "      <td>Nhà trong hẻm</td>\n",
              "      <td>Sổ hồng/ Sổ đỏ</td>\n",
              "      <td>3</td>\n",
              "      <td>3</td>\n",
              "      <td>73.0</td>\n",
              "      <td>12.0</td>\n",
              "      <td>6.6</td>\n",
              "      <td>4990.0</td>\n",
              "    </tr>\n",
              "    <tr>\n",
              "      <th>4</th>\n",
              "      <td>14</td>\n",
              "      <td>Huyện Bình Chánh</td>\n",
              "      <td>Nhà mặt tiền</td>\n",
              "      <td>Không có giấy</td>\n",
              "      <td>1</td>\n",
              "      <td>4</td>\n",
              "      <td>100.0</td>\n",
              "      <td>20.0</td>\n",
              "      <td>5.0</td>\n",
              "      <td>1000.0</td>\n",
              "    </tr>\n",
              "  </tbody>\n",
              "</table>\n",
              "</div>\n",
              "      <button class=\"colab-df-convert\" onclick=\"convertToInteractive('df-b5c2e977-a5ac-40d0-85ea-7494bf200a6e')\"\n",
              "              title=\"Convert this dataframe to an interactive table.\"\n",
              "              style=\"display:none;\">\n",
              "        \n",
              "  <svg xmlns=\"http://www.w3.org/2000/svg\" height=\"24px\"viewBox=\"0 0 24 24\"\n",
              "       width=\"24px\">\n",
              "    <path d=\"M0 0h24v24H0V0z\" fill=\"none\"/>\n",
              "    <path d=\"M18.56 5.44l.94 2.06.94-2.06 2.06-.94-2.06-.94-.94-2.06-.94 2.06-2.06.94zm-11 1L8.5 8.5l.94-2.06 2.06-.94-2.06-.94L8.5 2.5l-.94 2.06-2.06.94zm10 10l.94 2.06.94-2.06 2.06-.94-2.06-.94-.94-2.06-.94 2.06-2.06.94z\"/><path d=\"M17.41 7.96l-1.37-1.37c-.4-.4-.92-.59-1.43-.59-.52 0-1.04.2-1.43.59L10.3 9.45l-7.72 7.72c-.78.78-.78 2.05 0 2.83L4 21.41c.39.39.9.59 1.41.59.51 0 1.02-.2 1.41-.59l7.78-7.78 2.81-2.81c.8-.78.8-2.07 0-2.86zM5.41 20L4 18.59l7.72-7.72 1.47 1.35L5.41 20z\"/>\n",
              "  </svg>\n",
              "      </button>\n",
              "      \n",
              "  <style>\n",
              "    .colab-df-container {\n",
              "      display:flex;\n",
              "      flex-wrap:wrap;\n",
              "      gap: 12px;\n",
              "    }\n",
              "\n",
              "    .colab-df-convert {\n",
              "      background-color: #E8F0FE;\n",
              "      border: none;\n",
              "      border-radius: 50%;\n",
              "      cursor: pointer;\n",
              "      display: none;\n",
              "      fill: #1967D2;\n",
              "      height: 32px;\n",
              "      padding: 0 0 0 0;\n",
              "      width: 32px;\n",
              "    }\n",
              "\n",
              "    .colab-df-convert:hover {\n",
              "      background-color: #E2EBFA;\n",
              "      box-shadow: 0px 1px 2px rgba(60, 64, 67, 0.3), 0px 1px 3px 1px rgba(60, 64, 67, 0.15);\n",
              "      fill: #174EA6;\n",
              "    }\n",
              "\n",
              "    [theme=dark] .colab-df-convert {\n",
              "      background-color: #3B4455;\n",
              "      fill: #D2E3FC;\n",
              "    }\n",
              "\n",
              "    [theme=dark] .colab-df-convert:hover {\n",
              "      background-color: #434B5C;\n",
              "      box-shadow: 0px 1px 3px 1px rgba(0, 0, 0, 0.15);\n",
              "      filter: drop-shadow(0px 1px 2px rgba(0, 0, 0, 0.3));\n",
              "      fill: #FFFFFF;\n",
              "    }\n",
              "  </style>\n",
              "\n",
              "      <script>\n",
              "        const buttonEl =\n",
              "          document.querySelector('#df-b5c2e977-a5ac-40d0-85ea-7494bf200a6e button.colab-df-convert');\n",
              "        buttonEl.style.display =\n",
              "          google.colab.kernel.accessAllowed ? 'block' : 'none';\n",
              "\n",
              "        async function convertToInteractive(key) {\n",
              "          const element = document.querySelector('#df-b5c2e977-a5ac-40d0-85ea-7494bf200a6e');\n",
              "          const dataTable =\n",
              "            await google.colab.kernel.invokeFunction('convertToInteractive',\n",
              "                                                     [key], {});\n",
              "          if (!dataTable) return;\n",
              "\n",
              "          const docLinkHtml = 'Like what you see? Visit the ' +\n",
              "            '<a target=\"_blank\" href=https://colab.research.google.com/notebooks/data_table.ipynb>data table notebook</a>'\n",
              "            + ' to learn more about interactive tables.';\n",
              "          element.innerHTML = '';\n",
              "          dataTable['output_type'] = 'display_data';\n",
              "          await google.colab.output.renderOutput(dataTable, element);\n",
              "          const docLink = document.createElement('div');\n",
              "          docLink.innerHTML = docLinkHtml;\n",
              "          element.appendChild(docLink);\n",
              "        }\n",
              "      </script>\n",
              "    </div>\n",
              "  </div>\n",
              "  "
            ]
          },
          "metadata": {},
          "execution_count": 36
        }
      ]
    },
    {
      "cell_type": "code",
      "source": [
        "df_renamed.drop('index',axis=1, inplace=True)"
      ],
      "metadata": {
        "id": "-qo0gMlqp0lT",
        "colab": {
          "base_uri": "https://localhost:8080/"
        },
        "outputId": "a51bc439-5941-4931-b604-0947229fe637"
      },
      "execution_count": 37,
      "outputs": [
        {
          "output_type": "stream",
          "name": "stderr",
          "text": [
            "/usr/local/lib/python3.7/dist-packages/pandas/core/frame.py:4913: SettingWithCopyWarning: \n",
            "A value is trying to be set on a copy of a slice from a DataFrame\n",
            "\n",
            "See the caveats in the documentation: https://pandas.pydata.org/pandas-docs/stable/user_guide/indexing.html#returning-a-view-versus-a-copy\n",
            "  errors=errors,\n"
          ]
        }
      ]
    },
    {
      "cell_type": "code",
      "source": [
        "df_renamed.info()"
      ],
      "metadata": {
        "id": "5bntkuZGb1fY",
        "colab": {
          "base_uri": "https://localhost:8080/"
        },
        "outputId": "4ec94086-e486-4fbf-b81e-6085ae3c6ba4"
      },
      "execution_count": 38,
      "outputs": [
        {
          "output_type": "stream",
          "name": "stdout",
          "text": [
            "<class 'pandas.core.frame.DataFrame'>\n",
            "Int64Index: 13951 entries, 0 to 14098\n",
            "Data columns (total 9 columns):\n",
            " #   Column              Non-Null Count  Dtype  \n",
            "---  ------              --------------  -----  \n",
            " 0   district            13951 non-null  object \n",
            " 1   type_of_housing     13951 non-null  object \n",
            " 2   legal_paper         13951 non-null  object \n",
            " 3   num_floors          13951 non-null  int64  \n",
            " 4   num_bed_rooms       13951 non-null  int64  \n",
            " 5   squared_meter_area  13951 non-null  float64\n",
            " 6   length_meter        13951 non-null  float64\n",
            " 7   width_meter         13951 non-null  float64\n",
            " 8   price               13951 non-null  float64\n",
            "dtypes: float64(4), int64(2), object(3)\n",
            "memory usage: 1.1+ MB\n"
          ]
        }
      ]
    },
    {
      "cell_type": "markdown",
      "source": [
        "# **Step 4: Checking For Categorical**"
      ],
      "metadata": {
        "id": "3_BreBouf0hF"
      }
    },
    {
      "cell_type": "code",
      "source": [
        "for col in df_renamed.columns:\n",
        "    print()\n",
        "    if df_renamed[col].dtype == 'object':\n",
        "        print(f'Name of Column is: {col} and unique values are: {df_renamed[col].unique()}')"
      ],
      "metadata": {
        "id": "uc6l9c0IgnAd",
        "colab": {
          "base_uri": "https://localhost:8080/"
        },
        "outputId": "4361ebf6-9ee4-452d-85da-fce1f661fa24"
      },
      "execution_count": 39,
      "outputs": [
        {
          "output_type": "stream",
          "name": "stdout",
          "text": [
            "\n",
            "Name of Column is: district and unique values are: ['Huyện Bình Chánh' 'Thành phố Thủ Đức' 'Quận Tân Phú' 'Quận Bình Thạnh'\n",
            " 'Quận 12' 'Quận Bình Tân' 'Quận 1' 'Quận Gò Vấp' 'Quận 10' 'Quận 9'\n",
            " 'Quận 7' 'Quận Tân Bình' 'Quận 8' 'Quận 3' 'Huyện Hóc Môn'\n",
            " 'Quận Phú Nhuận' 'Quận 4' 'Quận 11' 'Quận 6' 'Quận 2' 'Huyện Nhà Bè'\n",
            " 'Huyện Củ Chi' 'Quận 5']\n",
            "\n",
            "Name of Column is: type_of_housing and unique values are: ['Nhà mặt tiền' 'Nhà trong hẻm' 'Căn hộ chung cư' 'Biệt thự, nhà liền kề'\n",
            " 'Nhà hàng, khách sạn' 'Phòng trọ, nhà trọ' 'Đất thổ cư, đất ở'\n",
            " 'Văn phòng' 'Kho, xưởng' 'Đất nền, liền kề, đất dự án' 'Mặt bằng'\n",
            " 'Shop, kiot, quán']\n",
            "\n",
            "Name of Column is: legal_paper and unique values are: ['Sổ hồng/ Sổ đỏ' 'Không có giấy' 'Giấy tờ hợp lệ' 'Giấy phép KD']\n",
            "\n",
            "\n",
            "\n",
            "\n",
            "\n",
            "\n"
          ]
        }
      ]
    },
    {
      "cell_type": "markdown",
      "source": [
        "#**Step 5: Data PreProcessing And Visualizations**"
      ],
      "metadata": {
        "id": "Ut1bl1t5oiE1"
      }
    },
    {
      "cell_type": "code",
      "source": [
        "#this function returns categorical variables\n",
        "def return_categorical(df):\n",
        "  categorical_columns = [column_name for column_name in df if df[column_name].dtype == 'O']\n",
        "  return categorical_columns\n",
        "\n",
        "#this function returns numerical variables\n",
        "def return_numerical(df):\n",
        "  return list(set(df.columns) - set(return_categorical(df)))\n",
        "\n",
        "def check_normal(df):\n",
        "  fig, axes = plt.subplots(1,len(return_numerical(df)), figsize =(70, 10))\n",
        "  for i,numeric_column_name in enumerate(list(set(df.columns) -set(return_categorical(df)))):\n",
        "    sns.distplot(df[numeric_column_name], ax=axes[i]);\n",
        "    plt.title(f'Distribution of {numeric_column_name}');"
      ],
      "metadata": {
        "id": "kWtHvvE9oDqS"
      },
      "execution_count": 40,
      "outputs": []
    },
    {
      "cell_type": "markdown",
      "metadata": {
        "id": "aPSouiUHTbM7"
      },
      "source": [
        "##**Checking Distribution For Continuous Variables**"
      ]
    },
    {
      "cell_type": "code",
      "source": [
        "check_normal(df_renamed)"
      ],
      "metadata": {
        "id": "FkMVxr94pEbS",
        "colab": {
          "base_uri": "https://localhost:8080/",
          "height": 461
        },
        "outputId": "6f627dce-f16f-43b6-ebb4-3fec33a17581"
      },
      "execution_count": 41,
      "outputs": [
        {
          "output_type": "stream",
          "name": "stderr",
          "text": [
            "/usr/local/lib/python3.7/dist-packages/seaborn/distributions.py:2619: FutureWarning: `distplot` is a deprecated function and will be removed in a future version. Please adapt your code to use either `displot` (a figure-level function with similar flexibility) or `histplot` (an axes-level function for histograms).\n",
            "  warnings.warn(msg, FutureWarning)\n",
            "/usr/local/lib/python3.7/dist-packages/seaborn/distributions.py:2619: FutureWarning: `distplot` is a deprecated function and will be removed in a future version. Please adapt your code to use either `displot` (a figure-level function with similar flexibility) or `histplot` (an axes-level function for histograms).\n",
            "  warnings.warn(msg, FutureWarning)\n",
            "/usr/local/lib/python3.7/dist-packages/seaborn/distributions.py:2619: FutureWarning: `distplot` is a deprecated function and will be removed in a future version. Please adapt your code to use either `displot` (a figure-level function with similar flexibility) or `histplot` (an axes-level function for histograms).\n",
            "  warnings.warn(msg, FutureWarning)\n",
            "/usr/local/lib/python3.7/dist-packages/seaborn/distributions.py:2619: FutureWarning: `distplot` is a deprecated function and will be removed in a future version. Please adapt your code to use either `displot` (a figure-level function with similar flexibility) or `histplot` (an axes-level function for histograms).\n",
            "  warnings.warn(msg, FutureWarning)\n",
            "/usr/local/lib/python3.7/dist-packages/seaborn/distributions.py:2619: FutureWarning: `distplot` is a deprecated function and will be removed in a future version. Please adapt your code to use either `displot` (a figure-level function with similar flexibility) or `histplot` (an axes-level function for histograms).\n",
            "  warnings.warn(msg, FutureWarning)\n",
            "/usr/local/lib/python3.7/dist-packages/seaborn/distributions.py:2619: FutureWarning: `distplot` is a deprecated function and will be removed in a future version. Please adapt your code to use either `displot` (a figure-level function with similar flexibility) or `histplot` (an axes-level function for histograms).\n",
            "  warnings.warn(msg, FutureWarning)\n"
          ]
        },
        {
          "output_type": "display_data",
          "data": {
            "text/plain": [
              "<Figure size 5040x720 with 6 Axes>"
            ],
            "image/png": "[encoded data removed]"
          },
          "metadata": {
            "needs_background": "light"
          }
        }
      ]
    },
    {
      "cell_type": "markdown",
      "source": [
        "##**Plots For Categorical Variables**"
      ],
      "metadata": {
        "id": "pgcNxAWysTMz"
      }
    },
    {
      "cell_type": "code",
      "source": [
        "header = ['num_floors','num_bed_rooms', 'squared_meter_area', 'length_meter', 'width_meter','price']\n",
        "df_renamed.hist(column=header,figsize=(10,10))\n",
        "plt.subplots_adjust(wspace = 0.5, hspace = 0.5)\n",
        "plt.show()"
      ],
      "metadata": {
        "id": "bPUb-HWEpSSP",
        "colab": {
          "base_uri": "https://localhost:8080/",
          "height": 621
        },
        "outputId": "0d67ed39-3a0d-4283-ddc5-578a26092e72"
      },
      "execution_count": 42,
      "outputs": [
        {
          "output_type": "display_data",
          "data": {
            "text/plain": [
              "<Figure size 720x720 with 6 Axes>"
            ],
            "image/png": "[encoded data removed]"
          },
          "metadata": {
            "needs_background": "light"
          }
        }
      ]
    },
    {
      "cell_type": "code",
      "source": [
        "# plotting graphs for all categorical columns\n",
        "for col in return_categorical(df_renamed):\n",
        "    counts = df_renamed[col].value_counts().sort_index()\n",
        "    if len(counts) > 10:\n",
        "      fig = plt.figure(figsize=(10, 6))\n",
        "    else:\n",
        "      fig = plt.figure(figsize=(10, 6))\n",
        "    ax = fig.gca()\n",
        "    counts.plot.bar(ax = ax, color='steelblue')\n",
        "    ax.set_title(col + ' counts',fontsize=20)\n",
        "    ax.set_xlabel(col, fontsize=20) \n",
        "    ax.set_ylabel(\"Frequency\", fontsize=20)\n",
        "plt.show()"
      ],
      "metadata": {
        "id": "hIYd2Az_quw8",
        "colab": {
          "base_uri": "https://localhost:8080/",
          "height": 1000
        },
        "outputId": "a9c114ed-9224-41f1-9c09-e7b943b47f8b"
      },
      "execution_count": 43,
      "outputs": [
        {
          "output_type": "display_data",
          "data": {
            "text/plain": [
              "<Figure size 720x432 with 1 Axes>"
            ],
            "image/png": "[encoded data removed]"
          },
          "metadata": {
            "needs_background": "light"
          }
        },
        {
          "output_type": "display_data",
          "data": {
            "text/plain": [
              "<Figure size 720x432 with 1 Axes>"
            ],
            "image/png": "[encoded data removed]"
          },
          "metadata": {
            "needs_background": "light"
          }
        },
        {
          "output_type": "display_data",
          "data": {
            "text/plain": [
              "<Figure size 720x432 with 1 Axes>"
            ],
            "image/png": "[encoded data removed]"
          },
          "metadata": {
            "needs_background": "light"
          }
        }
      ]
    },
    {
      "cell_type": "markdown",
      "source": [
        "##**Checking For Highly Correlated Columns**"
      ],
      "metadata": {
        "id": "JNI7qQwIsaWy"
      }
    },
    {
      "cell_type": "code",
      "source": [
        "corr = df_renamed.corr()\n",
        "corr_greater_than_75 = corr[corr>=.75]\n",
        "#corr_greater_than_75 = corr\n",
        "corr_greater_than_75 "
      ],
      "metadata": {
        "id": "5YIy4pzLrCY7",
        "colab": {
          "base_uri": "https://localhost:8080/",
          "height": 237
        },
        "outputId": "cdfb44ef-63b4-4167-957e-751a845b00e6"
      },
      "execution_count": 44,
      "outputs": [
        {
          "output_type": "execute_result",
          "data": {
            "text/plain": [
              "                    num_floors  num_bed_rooms  squared_meter_area  \\\n",
              "num_floors                 1.0            NaN                 NaN   \n",
              "num_bed_rooms              NaN            1.0                 NaN   \n",
              "squared_meter_area         NaN            NaN                 1.0   \n",
              "length_meter               NaN            NaN                 NaN   \n",
              "width_meter                NaN            NaN                 NaN   \n",
              "price                      NaN            NaN                 NaN   \n",
              "\n",
              "                    length_meter  width_meter  price  \n",
              "num_floors                   NaN          NaN    NaN  \n",
              "num_bed_rooms                NaN          NaN    NaN  \n",
              "squared_meter_area           NaN          NaN    NaN  \n",
              "length_meter                 1.0          NaN    NaN  \n",
              "width_meter                  NaN          1.0    NaN  \n",
              "price                        NaN          NaN    1.0  "
            ],
            "text/html": [
              "\n",
              "  <div id=\"df-2f9ce019-76ef-4ff8-88c7-f7b6d6691620\">\n",
              "    <div class=\"colab-df-container\">\n",
              "      <div>\n",
              "<style scoped>\n",
              "    .dataframe tbody tr th:only-of-type {\n",
              "        vertical-align: middle;\n",
              "    }\n",
              "\n",
              "    .dataframe tbody tr th {\n",
              "        vertical-align: top;\n",
              "    }\n",
              "\n",
              "    .dataframe thead th {\n",
              "        text-align: right;\n",
              "    }\n",
              "</style>\n",
              "<table border=\"1\" class=\"dataframe\">\n",
              "  <thead>\n",
              "    <tr style=\"text-align: right;\">\n",
              "      <th></th>\n",
              "      <th>num_floors</th>\n",
              "      <th>num_bed_rooms</th>\n",
              "      <th>squared_meter_area</th>\n",
              "      <th>length_meter</th>\n",
              "      <th>width_meter</th>\n",
              "      <th>price</th>\n",
              "    </tr>\n",
              "  </thead>\n",
              "  <tbody>\n",
              "    <tr>\n",
              "      <th>num_floors</th>\n",
              "      <td>1.0</td>\n",
              "      <td>NaN</td>\n",
              "      <td>NaN</td>\n",
              "      <td>NaN</td>\n",
              "      <td>NaN</td>\n",
              "      <td>NaN</td>\n",
              "    </tr>\n",
              "    <tr>\n",
              "      <th>num_bed_rooms</th>\n",
              "      <td>NaN</td>\n",
              "      <td>1.0</td>\n",
              "      <td>NaN</td>\n",
              "      <td>NaN</td>\n",
              "      <td>NaN</td>\n",
              "      <td>NaN</td>\n",
              "    </tr>\n",
              "    <tr>\n",
              "      <th>squared_meter_area</th>\n",
              "      <td>NaN</td>\n",
              "      <td>NaN</td>\n",
              "      <td>1.0</td>\n",
              "      <td>NaN</td>\n",
              "      <td>NaN</td>\n",
              "      <td>NaN</td>\n",
              "    </tr>\n",
              "    <tr>\n",
              "      <th>length_meter</th>\n",
              "      <td>NaN</td>\n",
              "      <td>NaN</td>\n",
              "      <td>NaN</td>\n",
              "      <td>1.0</td>\n",
              "      <td>NaN</td>\n",
              "      <td>NaN</td>\n",
              "    </tr>\n",
              "    <tr>\n",
              "      <th>width_meter</th>\n",
              "      <td>NaN</td>\n",
              "      <td>NaN</td>\n",
              "      <td>NaN</td>\n",
              "      <td>NaN</td>\n",
              "      <td>1.0</td>\n",
              "      <td>NaN</td>\n",
              "    </tr>\n",
              "    <tr>\n",
              "      <th>price</th>\n",
              "      <td>NaN</td>\n",
              "      <td>NaN</td>\n",
              "      <td>NaN</td>\n",
              "      <td>NaN</td>\n",
              "      <td>NaN</td>\n",
              "      <td>1.0</td>\n",
              "    </tr>\n",
              "  </tbody>\n",
              "</table>\n",
              "</div>\n",
              "      <button class=\"colab-df-convert\" onclick=\"convertToInteractive('df-2f9ce019-76ef-4ff8-88c7-f7b6d6691620')\"\n",
              "              title=\"Convert this dataframe to an interactive table.\"\n",
              "              style=\"display:none;\">\n",
              "        \n",
              "  <svg xmlns=\"http://www.w3.org/2000/svg\" height=\"24px\"viewBox=\"0 0 24 24\"\n",
              "       width=\"24px\">\n",
              "    <path d=\"M0 0h24v24H0V0z\" fill=\"none\"/>\n",
              "    <path d=\"M18.56 5.44l.94 2.06.94-2.06 2.06-.94-2.06-.94-.94-2.06-.94 2.06-2.06.94zm-11 1L8.5 8.5l.94-2.06 2.06-.94-2.06-.94L8.5 2.5l-.94 2.06-2.06.94zm10 10l.94 2.06.94-2.06 2.06-.94-2.06-.94-.94-2.06-.94 2.06-2.06.94z\"/><path d=\"M17.41 7.96l-1.37-1.37c-.4-.4-.92-.59-1.43-.59-.52 0-1.04.2-1.43.59L10.3 9.45l-7.72 7.72c-.78.78-.78 2.05 0 2.83L4 21.41c.39.39.9.59 1.41.59.51 0 1.02-.2 1.41-.59l7.78-7.78 2.81-2.81c.8-.78.8-2.07 0-2.86zM5.41 20L4 18.59l7.72-7.72 1.47 1.35L5.41 20z\"/>\n",
              "  </svg>\n",
              "      </button>\n",
              "      \n",
              "  <style>\n",
              "    .colab-df-container {\n",
              "      display:flex;\n",
              "      flex-wrap:wrap;\n",
              "      gap: 12px;\n",
              "    }\n",
              "\n",
              "    .colab-df-convert {\n",
              "      background-color: #E8F0FE;\n",
              "      border: none;\n",
              "      border-radius: 50%;\n",
              "      cursor: pointer;\n",
              "      display: none;\n",
              "      fill: #1967D2;\n",
              "      height: 32px;\n",
              "      padding: 0 0 0 0;\n",
              "      width: 32px;\n",
              "    }\n",
              "\n",
              "    .colab-df-convert:hover {\n",
              "      background-color: #E2EBFA;\n",
              "      box-shadow: 0px 1px 2px rgba(60, 64, 67, 0.3), 0px 1px 3px 1px rgba(60, 64, 67, 0.15);\n",
              "      fill: #174EA6;\n",
              "    }\n",
              "\n",
              "    [theme=dark] .colab-df-convert {\n",
              "      background-color: #3B4455;\n",
              "      fill: #D2E3FC;\n",
              "    }\n",
              "\n",
              "    [theme=dark] .colab-df-convert:hover {\n",
              "      background-color: #434B5C;\n",
              "      box-shadow: 0px 1px 3px 1px rgba(0, 0, 0, 0.15);\n",
              "      filter: drop-shadow(0px 1px 2px rgba(0, 0, 0, 0.3));\n",
              "      fill: #FFFFFF;\n",
              "    }\n",
              "  </style>\n",
              "\n",
              "      <script>\n",
              "        const buttonEl =\n",
              "          document.querySelector('#df-2f9ce019-76ef-4ff8-88c7-f7b6d6691620 button.colab-df-convert');\n",
              "        buttonEl.style.display =\n",
              "          google.colab.kernel.accessAllowed ? 'block' : 'none';\n",
              "\n",
              "        async function convertToInteractive(key) {\n",
              "          const element = document.querySelector('#df-2f9ce019-76ef-4ff8-88c7-f7b6d6691620');\n",
              "          const dataTable =\n",
              "            await google.colab.kernel.invokeFunction('convertToInteractive',\n",
              "                                                     [key], {});\n",
              "          if (!dataTable) return;\n",
              "\n",
              "          const docLinkHtml = 'Like what you see? Visit the ' +\n",
              "            '<a target=\"_blank\" href=https://colab.research.google.com/notebooks/data_table.ipynb>data table notebook</a>'\n",
              "            + ' to learn more about interactive tables.';\n",
              "          element.innerHTML = '';\n",
              "          dataTable['output_type'] = 'display_data';\n",
              "          await google.colab.output.renderOutput(dataTable, element);\n",
              "          const docLink = document.createElement('div');\n",
              "          docLink.innerHTML = docLinkHtml;\n",
              "          element.appendChild(docLink);\n",
              "        }\n",
              "      </script>\n",
              "    </div>\n",
              "  </div>\n",
              "  "
            ]
          },
          "metadata": {},
          "execution_count": 44
        }
      ]
    },
    {
      "cell_type": "code",
      "source": [
        "plt.figure(figsize=(12,8))\n",
        "sns.heatmap(corr_greater_than_75, cmap=\"Reds\", annot = True);"
      ],
      "metadata": {
        "colab": {
          "base_uri": "https://localhost:8080/",
          "height": 579
        },
        "id": "IxwmXu2drXUt",
        "outputId": "b62e7a5f-0b66-4873-cab8-5ae907acdcc8"
      },
      "execution_count": 45,
      "outputs": [
        {
          "output_type": "display_data",
          "data": {
            "text/plain": [
              "<Figure size 864x576 with 2 Axes>"
            ],
            "image/png": "[encoded data removed]"
          },
          "metadata": {
            "needs_background": "light"
          }
        }
      ]
    },
    {
      "cell_type": "markdown",
      "source": [
        "##**Removing outliers using IQR method**"
      ],
      "metadata": {
        "id": "ZfjxoaXslOwt"
      }
    },
    {
      "cell_type": "code",
      "source": [
        "def remove_outlier_IQR(df, series):\n",
        "    Q1=df[series].quantile(0.25)\n",
        "    Q3=df[series].quantile(0.75)\n",
        "    IQR=Q3-Q1\n",
        "    df_final=df[~((df[series]<(Q1-1.5*IQR)) | (df[series]>(Q3+1.5*IQR)))]\n",
        "    return df_final\n",
        "\n",
        "removed_outliers = df_renamed\n",
        "columns_to_remove_outliers = ['num_floors', 'num_bed_rooms', 'squared_meter_area', 'length_meter',\n",
        "                              'width_meter', 'price']\n",
        "for column in columns_to_remove_outliers:\n",
        "    removed_outliers = remove_outlier_IQR(removed_outliers, column)\n",
        "    \n",
        "print(\"The final length of the dataset is\", str(len(removed_outliers)), \"rows.\")"
      ],
      "metadata": {
        "colab": {
          "base_uri": "https://localhost:8080/"
        },
        "id": "LjxtI6DelSRs",
        "outputId": "85c852d0-5931-496f-fd9d-459de35ec037"
      },
      "execution_count": 46,
      "outputs": [
        {
          "output_type": "stream",
          "name": "stdout",
          "text": [
            "The final length of the dataset is 9406 rows.\n"
          ]
        }
      ]
    },
    {
      "cell_type": "code",
      "source": [
        "removed_outliers"
      ],
      "metadata": {
        "colab": {
          "base_uri": "https://localhost:8080/",
          "height": 424
        },
        "id": "Wy5ZwqGHXPRc",
        "outputId": "e989b54b-7db3-4d74-ae40-606e2d81022d"
      },
      "execution_count": 47,
      "outputs": [
        {
          "output_type": "execute_result",
          "data": {
            "text/plain": [
              "                district type_of_housing     legal_paper  num_floors  \\\n",
              "0       Huyện Bình Chánh    Nhà mặt tiền  Sổ hồng/ Sổ đỏ           1   \n",
              "1      Thành phố Thủ Đức    Nhà mặt tiền   Không có giấy           3   \n",
              "2      Thành phố Thủ Đức    Nhà mặt tiền  Sổ hồng/ Sổ đỏ           4   \n",
              "3      Thành phố Thủ Đức   Nhà trong hẻm  Sổ hồng/ Sổ đỏ           3   \n",
              "4       Huyện Bình Chánh    Nhà mặt tiền   Không có giấy           1   \n",
              "...                  ...             ...             ...         ...   \n",
              "14093            Quận 10   Nhà trong hẻm   Không có giấy           5   \n",
              "14094            Quận 10   Nhà trong hẻm   Không có giấy           1   \n",
              "14096     Quận Phú Nhuận    Nhà mặt tiền   Không có giấy           6   \n",
              "14097     Quận Phú Nhuận   Nhà trong hẻm   Không có giấy           2   \n",
              "14098      Quận Tân Bình   Nhà trong hẻm   Không có giấy           4   \n",
              "\n",
              "       num_bed_rooms  squared_meter_area  length_meter  width_meter    price  \n",
              "0                  4               100.0          20.0          5.0   1200.0  \n",
              "1                  4                55.0          11.0          5.0   7000.0  \n",
              "2                  4                72.0          14.0          5.0   9200.0  \n",
              "3                  3                73.0          12.0          6.6   4990.0  \n",
              "4                  4               100.0          20.0          5.0   1000.0  \n",
              "...              ...                 ...           ...          ...      ...  \n",
              "14093             10                80.0          18.0          5.5  16000.0  \n",
              "14094              1               110.0          24.0          5.0  25000.0  \n",
              "14096             10                90.0          23.0          4.0  26800.0  \n",
              "14097              3                80.0          16.0          6.0  18000.0  \n",
              "14098              6               110.0          20.0          5.2  19500.0  \n",
              "\n",
              "[9406 rows x 9 columns]"
            ],
            "text/html": [
              "\n",
              "  <div id=\"df-f5bd3c78-ad44-4805-ae75-370bdfd52166\">\n",
              "    <div class=\"colab-df-container\">\n",
              "      <div>\n",
              "<style scoped>\n",
              "    .dataframe tbody tr th:only-of-type {\n",
              "        vertical-align: middle;\n",
              "    }\n",
              "\n",
              "    .dataframe tbody tr th {\n",
              "        vertical-align: top;\n",
              "    }\n",
              "\n",
              "    .dataframe thead th {\n",
              "        text-align: right;\n",
              "    }\n",
              "</style>\n",
              "<table border=\"1\" class=\"dataframe\">\n",
              "  <thead>\n",
              "    <tr style=\"text-align: right;\">\n",
              "      <th></th>\n",
              "      <th>district</th>\n",
              "      <th>type_of_housing</th>\n",
              "      <th>legal_paper</th>\n",
              "      <th>num_floors</th>\n",
              "      <th>num_bed_rooms</th>\n",
              "      <th>squared_meter_area</th>\n",
              "      <th>length_meter</th>\n",
              "      <th>width_meter</th>\n",
              "      <th>price</th>\n",
              "    </tr>\n",
              "  </thead>\n",
              "  <tbody>\n",
              "    <tr>\n",
              "      <th>0</th>\n",
              "      <td>Huyện Bình Chánh</td>\n",
              "      <td>Nhà mặt tiền</td>\n",
              "      <td>Sổ hồng/ Sổ đỏ</td>\n",
              "      <td>1</td>\n",
              "      <td>4</td>\n",
              "      <td>100.0</td>\n",
              "      <td>20.0</td>\n",
              "      <td>5.0</td>\n",
              "      <td>1200.0</td>\n",
              "    </tr>\n",
              "    <tr>\n",
              "      <th>1</th>\n",
              "      <td>Thành phố Thủ Đức</td>\n",
              "      <td>Nhà mặt tiền</td>\n",
              "      <td>Không có giấy</td>\n",
              "      <td>3</td>\n",
              "      <td>4</td>\n",
              "      <td>55.0</td>\n",
              "      <td>11.0</td>\n",
              "      <td>5.0</td>\n",
              "      <td>7000.0</td>\n",
              "    </tr>\n",
              "    <tr>\n",
              "      <th>2</th>\n",
              "      <td>Thành phố Thủ Đức</td>\n",
              "      <td>Nhà mặt tiền</td>\n",
              "      <td>Sổ hồng/ Sổ đỏ</td>\n",
              "      <td>4</td>\n",
              "      <td>4</td>\n",
              "      <td>72.0</td>\n",
              "      <td>14.0</td>\n",
              "      <td>5.0</td>\n",
              "      <td>9200.0</td>\n",
              "    </tr>\n",
              "    <tr>\n",
              "      <th>3</th>\n",
              "      <td>Thành phố Thủ Đức</td>\n",
              "      <td>Nhà trong hẻm</td>\n",
              "      <td>Sổ hồng/ Sổ đỏ</td>\n",
              "      <td>3</td>\n",
              "      <td>3</td>\n",
              "      <td>73.0</td>\n",
              "      <td>12.0</td>\n",
              "      <td>6.6</td>\n",
              "      <td>4990.0</td>\n",
              "    </tr>\n",
              "    <tr>\n",
              "      <th>4</th>\n",
              "      <td>Huyện Bình Chánh</td>\n",
              "      <td>Nhà mặt tiền</td>\n",
              "      <td>Không có giấy</td>\n",
              "      <td>1</td>\n",
              "      <td>4</td>\n",
              "      <td>100.0</td>\n",
              "      <td>20.0</td>\n",
              "      <td>5.0</td>\n",
              "      <td>1000.0</td>\n",
              "    </tr>\n",
              "    <tr>\n",
              "      <th>...</th>\n",
              "      <td>...</td>\n",
              "      <td>...</td>\n",
              "      <td>...</td>\n",
              "      <td>...</td>\n",
              "      <td>...</td>\n",
              "      <td>...</td>\n",
              "      <td>...</td>\n",
              "      <td>...</td>\n",
              "      <td>...</td>\n",
              "    </tr>\n",
              "    <tr>\n",
              "      <th>14093</th>\n",
              "      <td>Quận 10</td>\n",
              "      <td>Nhà trong hẻm</td>\n",
              "      <td>Không có giấy</td>\n",
              "      <td>5</td>\n",
              "      <td>10</td>\n",
              "      <td>80.0</td>\n",
              "      <td>18.0</td>\n",
              "      <td>5.5</td>\n",
              "      <td>16000.0</td>\n",
              "    </tr>\n",
              "    <tr>\n",
              "      <th>14094</th>\n",
              "      <td>Quận 10</td>\n",
              "      <td>Nhà trong hẻm</td>\n",
              "      <td>Không có giấy</td>\n",
              "      <td>1</td>\n",
              "      <td>1</td>\n",
              "      <td>110.0</td>\n",
              "      <td>24.0</td>\n",
              "      <td>5.0</td>\n",
              "      <td>25000.0</td>\n",
              "    </tr>\n",
              "    <tr>\n",
              "      <th>14096</th>\n",
              "      <td>Quận Phú Nhuận</td>\n",
              "      <td>Nhà mặt tiền</td>\n",
              "      <td>Không có giấy</td>\n",
              "      <td>6</td>\n",
              "      <td>10</td>\n",
              "      <td>90.0</td>\n",
              "      <td>23.0</td>\n",
              "      <td>4.0</td>\n",
              "      <td>26800.0</td>\n",
              "    </tr>\n",
              "    <tr>\n",
              "      <th>14097</th>\n",
              "      <td>Quận Phú Nhuận</td>\n",
              "      <td>Nhà trong hẻm</td>\n",
              "      <td>Không có giấy</td>\n",
              "      <td>2</td>\n",
              "      <td>3</td>\n",
              "      <td>80.0</td>\n",
              "      <td>16.0</td>\n",
              "      <td>6.0</td>\n",
              "      <td>18000.0</td>\n",
              "    </tr>\n",
              "    <tr>\n",
              "      <th>14098</th>\n",
              "      <td>Quận Tân Bình</td>\n",
              "      <td>Nhà trong hẻm</td>\n",
              "      <td>Không có giấy</td>\n",
              "      <td>4</td>\n",
              "      <td>6</td>\n",
              "      <td>110.0</td>\n",
              "      <td>20.0</td>\n",
              "      <td>5.2</td>\n",
              "      <td>19500.0</td>\n",
              "    </tr>\n",
              "  </tbody>\n",
              "</table>\n",
              "<p>9406 rows × 9 columns</p>\n",
              "</div>\n",
              "      <button class=\"colab-df-convert\" onclick=\"convertToInteractive('df-f5bd3c78-ad44-4805-ae75-370bdfd52166')\"\n",
              "              title=\"Convert this dataframe to an interactive table.\"\n",
              "              style=\"display:none;\">\n",
              "        \n",
              "  <svg xmlns=\"http://www.w3.org/2000/svg\" height=\"24px\"viewBox=\"0 0 24 24\"\n",
              "       width=\"24px\">\n",
              "    <path d=\"M0 0h24v24H0V0z\" fill=\"none\"/>\n",
              "    <path d=\"M18.56 5.44l.94 2.06.94-2.06 2.06-.94-2.06-.94-.94-2.06-.94 2.06-2.06.94zm-11 1L8.5 8.5l.94-2.06 2.06-.94-2.06-.94L8.5 2.5l-.94 2.06-2.06.94zm10 10l.94 2.06.94-2.06 2.06-.94-2.06-.94-.94-2.06-.94 2.06-2.06.94z\"/><path d=\"M17.41 7.96l-1.37-1.37c-.4-.4-.92-.59-1.43-.59-.52 0-1.04.2-1.43.59L10.3 9.45l-7.72 7.72c-.78.78-.78 2.05 0 2.83L4 21.41c.39.39.9.59 1.41.59.51 0 1.02-.2 1.41-.59l7.78-7.78 2.81-2.81c.8-.78.8-2.07 0-2.86zM5.41 20L4 18.59l7.72-7.72 1.47 1.35L5.41 20z\"/>\n",
              "  </svg>\n",
              "      </button>\n",
              "      \n",
              "  <style>\n",
              "    .colab-df-container {\n",
              "      display:flex;\n",
              "      flex-wrap:wrap;\n",
              "      gap: 12px;\n",
              "    }\n",
              "\n",
              "    .colab-df-convert {\n",
              "      background-color: #E8F0FE;\n",
              "      border: none;\n",
              "      border-radius: 50%;\n",
              "      cursor: pointer;\n",
              "      display: none;\n",
              "      fill: #1967D2;\n",
              "      height: 32px;\n",
              "      padding: 0 0 0 0;\n",
              "      width: 32px;\n",
              "    }\n",
              "\n",
              "    .colab-df-convert:hover {\n",
              "      background-color: #E2EBFA;\n",
              "      box-shadow: 0px 1px 2px rgba(60, 64, 67, 0.3), 0px 1px 3px 1px rgba(60, 64, 67, 0.15);\n",
              "      fill: #174EA6;\n",
              "    }\n",
              "\n",
              "    [theme=dark] .colab-df-convert {\n",
              "      background-color: #3B4455;\n",
              "      fill: #D2E3FC;\n",
              "    }\n",
              "\n",
              "    [theme=dark] .colab-df-convert:hover {\n",
              "      background-color: #434B5C;\n",
              "      box-shadow: 0px 1px 3px 1px rgba(0, 0, 0, 0.15);\n",
              "      filter: drop-shadow(0px 1px 2px rgba(0, 0, 0, 0.3));\n",
              "      fill: #FFFFFF;\n",
              "    }\n",
              "  </style>\n",
              "\n",
              "      <script>\n",
              "        const buttonEl =\n",
              "          document.querySelector('#df-f5bd3c78-ad44-4805-ae75-370bdfd52166 button.colab-df-convert');\n",
              "        buttonEl.style.display =\n",
              "          google.colab.kernel.accessAllowed ? 'block' : 'none';\n",
              "\n",
              "        async function convertToInteractive(key) {\n",
              "          const element = document.querySelector('#df-f5bd3c78-ad44-4805-ae75-370bdfd52166');\n",
              "          const dataTable =\n",
              "            await google.colab.kernel.invokeFunction('convertToInteractive',\n",
              "                                                     [key], {});\n",
              "          if (!dataTable) return;\n",
              "\n",
              "          const docLinkHtml = 'Like what you see? Visit the ' +\n",
              "            '<a target=\"_blank\" href=https://colab.research.google.com/notebooks/data_table.ipynb>data table notebook</a>'\n",
              "            + ' to learn more about interactive tables.';\n",
              "          element.innerHTML = '';\n",
              "          dataTable['output_type'] = 'display_data';\n",
              "          await google.colab.output.renderOutput(dataTable, element);\n",
              "          const docLink = document.createElement('div');\n",
              "          docLink.innerHTML = docLinkHtml;\n",
              "          element.appendChild(docLink);\n",
              "        }\n",
              "      </script>\n",
              "    </div>\n",
              "  </div>\n",
              "  "
            ]
          },
          "metadata": {},
          "execution_count": 47
        }
      ]
    },
    {
      "cell_type": "code",
      "source": [
        "removed_outliers.info()"
      ],
      "metadata": {
        "colab": {
          "base_uri": "https://localhost:8080/"
        },
        "id": "kQ3lOQ6KMEF3",
        "outputId": "46c2cf79-dbb4-46cc-f12b-02eac9d2cafe"
      },
      "execution_count": 48,
      "outputs": [
        {
          "output_type": "stream",
          "name": "stdout",
          "text": [
            "<class 'pandas.core.frame.DataFrame'>\n",
            "Int64Index: 9406 entries, 0 to 14098\n",
            "Data columns (total 9 columns):\n",
            " #   Column              Non-Null Count  Dtype  \n",
            "---  ------              --------------  -----  \n",
            " 0   district            9406 non-null   object \n",
            " 1   type_of_housing     9406 non-null   object \n",
            " 2   legal_paper         9406 non-null   object \n",
            " 3   num_floors          9406 non-null   int64  \n",
            " 4   num_bed_rooms       9406 non-null   int64  \n",
            " 5   squared_meter_area  9406 non-null   float64\n",
            " 6   length_meter        9406 non-null   float64\n",
            " 7   width_meter         9406 non-null   float64\n",
            " 8   price               9406 non-null   float64\n",
            "dtypes: float64(4), int64(2), object(3)\n",
            "memory usage: 734.8+ KB\n"
          ]
        }
      ]
    },
    {
      "cell_type": "markdown",
      "source": [
        "#**Step6: Building Model**"
      ],
      "metadata": {
        "id": "Tnn2P5M9k6-m"
      }
    },
    {
      "cell_type": "code",
      "source": [
        "from sklearn.preprocessing import  OneHotEncoder, StandardScaler\n",
        "from sklearn.ensemble import RandomForestRegressor\n",
        "from sklearn.model_selection import train_test_split\n",
        "from sklearn.pipeline import make_pipeline\n",
        "from sklearn.compose import make_column_transformer\n",
        "from sklearn.model_selection import RandomizedSearchCV\n",
        "from sklearn.linear_model import LinearRegression\n",
        "from sklearn.svm import SVR\n",
        "from sklearn.tree import DecisionTreeRegressor"
      ],
      "metadata": {
        "id": "dFWzvoX_fEIe"
      },
      "execution_count": 49,
      "outputs": []
    },
    {
      "cell_type": "code",
      "source": [
        "housing = removed_outliers\n",
        "\n",
        "# Separate predictors and response (price) variables\n",
        "X = housing.loc[:, housing.columns != 'price']\n",
        "y = housing[['price']]"
      ],
      "metadata": {
        "id": "mo4LbdQ1Xl9P"
      },
      "execution_count": 50,
      "outputs": []
    },
    {
      "cell_type": "code",
      "source": [
        "X_train, X_test, y_train, y_test = train_test_split(X, y, test_size=0.2,random_state=True)"
      ],
      "metadata": {
        "id": "FWZ-dIKLYHrG"
      },
      "execution_count": 51,
      "outputs": []
    },
    {
      "cell_type": "code",
      "source": [
        "X_train"
      ],
      "metadata": {
        "colab": {
          "base_uri": "https://localhost:8080/",
          "height": 424
        },
        "id": "M-1_Hqygp3qX",
        "outputId": "d981927f-b5fe-4812-c2a2-84c0eb4f9f9e"
      },
      "execution_count": 52,
      "outputs": [
        {
          "output_type": "execute_result",
          "data": {
            "text/plain": [
              "            district type_of_housing     legal_paper  num_floors  \\\n",
              "10831    Quận Gò Vấp   Nhà trong hẻm  Sổ hồng/ Sổ đỏ           2   \n",
              "2727          Quận 3    Nhà mặt tiền  Sổ hồng/ Sổ đỏ           4   \n",
              "2586         Quận 10   Nhà trong hẻm  Sổ hồng/ Sổ đỏ           2   \n",
              "7482          Quận 4   Nhà trong hẻm  Sổ hồng/ Sổ đỏ           4   \n",
              "8984          Quận 8    Nhà mặt tiền  Sổ hồng/ Sổ đỏ           1   \n",
              "...              ...             ...             ...         ...   \n",
              "4310     Quận Gò Vấp   Nhà trong hẻm   Không có giấy           3   \n",
              "11279         Quận 1   Nhà trong hẻm  Sổ hồng/ Sổ đỏ           5   \n",
              "1365   Quận Tân Bình   Nhà trong hẻm  Sổ hồng/ Sổ đỏ           1   \n",
              "7616         Quận 10   Nhà trong hẻm  Sổ hồng/ Sổ đỏ           3   \n",
              "321    Quận Tân Bình    Nhà mặt tiền  Sổ hồng/ Sổ đỏ           5   \n",
              "\n",
              "       num_bed_rooms  squared_meter_area  length_meter  width_meter  \n",
              "10831              3                83.0          17.0         5.00  \n",
              "2727               4                76.0          20.0         3.20  \n",
              "2586               2                42.0          14.0         3.60  \n",
              "7482               3                31.0          11.0         3.05  \n",
              "8984               2                40.0          10.0         4.00  \n",
              "...              ...                 ...           ...          ...  \n",
              "4310               4               105.0          26.0         4.00  \n",
              "11279              3                31.0           9.5         3.20  \n",
              "1365               2                45.0          10.0         4.50  \n",
              "7616               4                71.0          16.5         4.50  \n",
              "321                4                77.0          14.0         5.50  \n",
              "\n",
              "[7524 rows x 8 columns]"
            ],
            "text/html": [
              "\n",
              "  <div id=\"df-5938f84d-5d38-489b-92b7-62e4572a9bea\">\n",
              "    <div class=\"colab-df-container\">\n",
              "      <div>\n",
              "<style scoped>\n",
              "    .dataframe tbody tr th:only-of-type {\n",
              "        vertical-align: middle;\n",
              "    }\n",
              "\n",
              "    .dataframe tbody tr th {\n",
              "        vertical-align: top;\n",
              "    }\n",
              "\n",
              "    .dataframe thead th {\n",
              "        text-align: right;\n",
              "    }\n",
              "</style>\n",
              "<table border=\"1\" class=\"dataframe\">\n",
              "  <thead>\n",
              "    <tr style=\"text-align: right;\">\n",
              "      <th></th>\n",
              "      <th>district</th>\n",
              "      <th>type_of_housing</th>\n",
              "      <th>legal_paper</th>\n",
              "      <th>num_floors</th>\n",
              "      <th>num_bed_rooms</th>\n",
              "      <th>squared_meter_area</th>\n",
              "      <th>length_meter</th>\n",
              "      <th>width_meter</th>\n",
              "    </tr>\n",
              "  </thead>\n",
              "  <tbody>\n",
              "    <tr>\n",
              "      <th>10831</th>\n",
              "      <td>Quận Gò Vấp</td>\n",
              "      <td>Nhà trong hẻm</td>\n",
              "      <td>Sổ hồng/ Sổ đỏ</td>\n",
              "      <td>2</td>\n",
              "      <td>3</td>\n",
              "      <td>83.0</td>\n",
              "      <td>17.0</td>\n",
              "      <td>5.00</td>\n",
              "    </tr>\n",
              "    <tr>\n",
              "      <th>2727</th>\n",
              "      <td>Quận 3</td>\n",
              "      <td>Nhà mặt tiền</td>\n",
              "      <td>Sổ hồng/ Sổ đỏ</td>\n",
              "      <td>4</td>\n",
              "      <td>4</td>\n",
              "      <td>76.0</td>\n",
              "      <td>20.0</td>\n",
              "      <td>3.20</td>\n",
              "    </tr>\n",
              "    <tr>\n",
              "      <th>2586</th>\n",
              "      <td>Quận 10</td>\n",
              "      <td>Nhà trong hẻm</td>\n",
              "      <td>Sổ hồng/ Sổ đỏ</td>\n",
              "      <td>2</td>\n",
              "      <td>2</td>\n",
              "      <td>42.0</td>\n",
              "      <td>14.0</td>\n",
              "      <td>3.60</td>\n",
              "    </tr>\n",
              "    <tr>\n",
              "      <th>7482</th>\n",
              "      <td>Quận 4</td>\n",
              "      <td>Nhà trong hẻm</td>\n",
              "      <td>Sổ hồng/ Sổ đỏ</td>\n",
              "      <td>4</td>\n",
              "      <td>3</td>\n",
              "      <td>31.0</td>\n",
              "      <td>11.0</td>\n",
              "      <td>3.05</td>\n",
              "    </tr>\n",
              "    <tr>\n",
              "      <th>8984</th>\n",
              "      <td>Quận 8</td>\n",
              "      <td>Nhà mặt tiền</td>\n",
              "      <td>Sổ hồng/ Sổ đỏ</td>\n",
              "      <td>1</td>\n",
              "      <td>2</td>\n",
              "      <td>40.0</td>\n",
              "      <td>10.0</td>\n",
              "      <td>4.00</td>\n",
              "    </tr>\n",
              "    <tr>\n",
              "      <th>...</th>\n",
              "      <td>...</td>\n",
              "      <td>...</td>\n",
              "      <td>...</td>\n",
              "      <td>...</td>\n",
              "      <td>...</td>\n",
              "      <td>...</td>\n",
              "      <td>...</td>\n",
              "      <td>...</td>\n",
              "    </tr>\n",
              "    <tr>\n",
              "      <th>4310</th>\n",
              "      <td>Quận Gò Vấp</td>\n",
              "      <td>Nhà trong hẻm</td>\n",
              "      <td>Không có giấy</td>\n",
              "      <td>3</td>\n",
              "      <td>4</td>\n",
              "      <td>105.0</td>\n",
              "      <td>26.0</td>\n",
              "      <td>4.00</td>\n",
              "    </tr>\n",
              "    <tr>\n",
              "      <th>11279</th>\n",
              "      <td>Quận 1</td>\n",
              "      <td>Nhà trong hẻm</td>\n",
              "      <td>Sổ hồng/ Sổ đỏ</td>\n",
              "      <td>5</td>\n",
              "      <td>3</td>\n",
              "      <td>31.0</td>\n",
              "      <td>9.5</td>\n",
              "      <td>3.20</td>\n",
              "    </tr>\n",
              "    <tr>\n",
              "      <th>1365</th>\n",
              "      <td>Quận Tân Bình</td>\n",
              "      <td>Nhà trong hẻm</td>\n",
              "      <td>Sổ hồng/ Sổ đỏ</td>\n",
              "      <td>1</td>\n",
              "      <td>2</td>\n",
              "      <td>45.0</td>\n",
              "      <td>10.0</td>\n",
              "      <td>4.50</td>\n",
              "    </tr>\n",
              "    <tr>\n",
              "      <th>7616</th>\n",
              "      <td>Quận 10</td>\n",
              "      <td>Nhà trong hẻm</td>\n",
              "      <td>Sổ hồng/ Sổ đỏ</td>\n",
              "      <td>3</td>\n",
              "      <td>4</td>\n",
              "      <td>71.0</td>\n",
              "      <td>16.5</td>\n",
              "      <td>4.50</td>\n",
              "    </tr>\n",
              "    <tr>\n",
              "      <th>321</th>\n",
              "      <td>Quận Tân Bình</td>\n",
              "      <td>Nhà mặt tiền</td>\n",
              "      <td>Sổ hồng/ Sổ đỏ</td>\n",
              "      <td>5</td>\n",
              "      <td>4</td>\n",
              "      <td>77.0</td>\n",
              "      <td>14.0</td>\n",
              "      <td>5.50</td>\n",
              "    </tr>\n",
              "  </tbody>\n",
              "</table>\n",
              "<p>7524 rows × 8 columns</p>\n",
              "</div>\n",
              "      <button class=\"colab-df-convert\" onclick=\"convertToInteractive('df-5938f84d-5d38-489b-92b7-62e4572a9bea')\"\n",
              "              title=\"Convert this dataframe to an interactive table.\"\n",
              "              style=\"display:none;\">\n",
              "        \n",
              "  <svg xmlns=\"http://www.w3.org/2000/svg\" height=\"24px\"viewBox=\"0 0 24 24\"\n",
              "       width=\"24px\">\n",
              "    <path d=\"M0 0h24v24H0V0z\" fill=\"none\"/>\n",
              "    <path d=\"M18.56 5.44l.94 2.06.94-2.06 2.06-.94-2.06-.94-.94-2.06-.94 2.06-2.06.94zm-11 1L8.5 8.5l.94-2.06 2.06-.94-2.06-.94L8.5 2.5l-.94 2.06-2.06.94zm10 10l.94 2.06.94-2.06 2.06-.94-2.06-.94-.94-2.06-.94 2.06-2.06.94z\"/><path d=\"M17.41 7.96l-1.37-1.37c-.4-.4-.92-.59-1.43-.59-.52 0-1.04.2-1.43.59L10.3 9.45l-7.72 7.72c-.78.78-.78 2.05 0 2.83L4 21.41c.39.39.9.59 1.41.59.51 0 1.02-.2 1.41-.59l7.78-7.78 2.81-2.81c.8-.78.8-2.07 0-2.86zM5.41 20L4 18.59l7.72-7.72 1.47 1.35L5.41 20z\"/>\n",
              "  </svg>\n",
              "      </button>\n",
              "      \n",
              "  <style>\n",
              "    .colab-df-container {\n",
              "      display:flex;\n",
              "      flex-wrap:wrap;\n",
              "      gap: 12px;\n",
              "    }\n",
              "\n",
              "    .colab-df-convert {\n",
              "      background-color: #E8F0FE;\n",
              "      border: none;\n",
              "      border-radius: 50%;\n",
              "      cursor: pointer;\n",
              "      display: none;\n",
              "      fill: #1967D2;\n",
              "      height: 32px;\n",
              "      padding: 0 0 0 0;\n",
              "      width: 32px;\n",
              "    }\n",
              "\n",
              "    .colab-df-convert:hover {\n",
              "      background-color: #E2EBFA;\n",
              "      box-shadow: 0px 1px 2px rgba(60, 64, 67, 0.3), 0px 1px 3px 1px rgba(60, 64, 67, 0.15);\n",
              "      fill: #174EA6;\n",
              "    }\n",
              "\n",
              "    [theme=dark] .colab-df-convert {\n",
              "      background-color: #3B4455;\n",
              "      fill: #D2E3FC;\n",
              "    }\n",
              "\n",
              "    [theme=dark] .colab-df-convert:hover {\n",
              "      background-color: #434B5C;\n",
              "      box-shadow: 0px 1px 3px 1px rgba(0, 0, 0, 0.15);\n",
              "      filter: drop-shadow(0px 1px 2px rgba(0, 0, 0, 0.3));\n",
              "      fill: #FFFFFF;\n",
              "    }\n",
              "  </style>\n",
              "\n",
              "      <script>\n",
              "        const buttonEl =\n",
              "          document.querySelector('#df-5938f84d-5d38-489b-92b7-62e4572a9bea button.colab-df-convert');\n",
              "        buttonEl.style.display =\n",
              "          google.colab.kernel.accessAllowed ? 'block' : 'none';\n",
              "\n",
              "        async function convertToInteractive(key) {\n",
              "          const element = document.querySelector('#df-5938f84d-5d38-489b-92b7-62e4572a9bea');\n",
              "          const dataTable =\n",
              "            await google.colab.kernel.invokeFunction('convertToInteractive',\n",
              "                                                     [key], {});\n",
              "          if (!dataTable) return;\n",
              "\n",
              "          const docLinkHtml = 'Like what you see? Visit the ' +\n",
              "            '<a target=\"_blank\" href=https://colab.research.google.com/notebooks/data_table.ipynb>data table notebook</a>'\n",
              "            + ' to learn more about interactive tables.';\n",
              "          element.innerHTML = '';\n",
              "          dataTable['output_type'] = 'display_data';\n",
              "          await google.colab.output.renderOutput(dataTable, element);\n",
              "          const docLink = document.createElement('div');\n",
              "          docLink.innerHTML = docLinkHtml;\n",
              "          element.appendChild(docLink);\n",
              "        }\n",
              "      </script>\n",
              "    </div>\n",
              "  </div>\n",
              "  "
            ]
          },
          "metadata": {},
          "execution_count": 52
        }
      ]
    },
    {
      "cell_type": "code",
      "source": [
        "X_test"
      ],
      "metadata": {
        "colab": {
          "base_uri": "https://localhost:8080/",
          "height": 424
        },
        "id": "d5HFC8owp6FP",
        "outputId": "2b3b58bd-0af1-492c-c7f8-22b4bce9f8dc"
      },
      "execution_count": 53,
      "outputs": [
        {
          "output_type": "execute_result",
          "data": {
            "text/plain": [
              "              district              type_of_housing     legal_paper  \\\n",
              "2316            Quận 4                Nhà trong hẻm  Sổ hồng/ Sổ đỏ   \n",
              "320       Quận Tân Phú                Nhà trong hẻm  Sổ hồng/ Sổ đỏ   \n",
              "13415  Quận Bình Thạnh                 Nhà mặt tiền   Không có giấy   \n",
              "10966           Quận 5                Nhà trong hẻm  Sổ hồng/ Sổ đỏ   \n",
              "1172            Quận 7  Đất nền, liền kề, đất dự án  Sổ hồng/ Sổ đỏ   \n",
              "...                ...                          ...             ...   \n",
              "8242   Quận Bình Thạnh                Nhà trong hẻm  Sổ hồng/ Sổ đỏ   \n",
              "10859          Quận 12                 Nhà mặt tiền  Sổ hồng/ Sổ đỏ   \n",
              "9191     Quận Tân Bình                Nhà trong hẻm  Sổ hồng/ Sổ đỏ   \n",
              "5075   Quận Bình Thạnh                 Nhà mặt tiền  Sổ hồng/ Sổ đỏ   \n",
              "8393           Quận 11                 Nhà mặt tiền  Sổ hồng/ Sổ đỏ   \n",
              "\n",
              "       num_floors  num_bed_rooms  squared_meter_area  length_meter  \\\n",
              "2316            2              2                36.0           9.0   \n",
              "320             4              4                60.0          15.0   \n",
              "13415           5              5                88.0          22.0   \n",
              "10966           5              4                48.0          12.0   \n",
              "1172            1              1               108.0          18.0   \n",
              "...           ...            ...                 ...           ...   \n",
              "8242            3              4                45.0          15.0   \n",
              "10859           3              5               110.0          28.0   \n",
              "9191            4              4                50.0          12.0   \n",
              "5075            5              4                78.0          18.0   \n",
              "8393            2              3                62.0          12.4   \n",
              "\n",
              "       width_meter  \n",
              "2316           4.0  \n",
              "320            4.0  \n",
              "13415          4.0  \n",
              "10966          4.0  \n",
              "1172           6.0  \n",
              "...            ...  \n",
              "8242           3.0  \n",
              "10859          4.0  \n",
              "9191           4.2  \n",
              "5075           4.0  \n",
              "8393           5.0  \n",
              "\n",
              "[1882 rows x 8 columns]"
            ],
            "text/html": [
              "\n",
              "  <div id=\"df-a3796243-cfc6-41ee-a5dd-f6b3f056903a\">\n",
              "    <div class=\"colab-df-container\">\n",
              "      <div>\n",
              "<style scoped>\n",
              "    .dataframe tbody tr th:only-of-type {\n",
              "        vertical-align: middle;\n",
              "    }\n",
              "\n",
              "    .dataframe tbody tr th {\n",
              "        vertical-align: top;\n",
              "    }\n",
              "\n",
              "    .dataframe thead th {\n",
              "        text-align: right;\n",
              "    }\n",
              "</style>\n",
              "<table border=\"1\" class=\"dataframe\">\n",
              "  <thead>\n",
              "    <tr style=\"text-align: right;\">\n",
              "      <th></th>\n",
              "      <th>district</th>\n",
              "      <th>type_of_housing</th>\n",
              "      <th>legal_paper</th>\n",
              "      <th>num_floors</th>\n",
              "      <th>num_bed_rooms</th>\n",
              "      <th>squared_meter_area</th>\n",
              "      <th>length_meter</th>\n",
              "      <th>width_meter</th>\n",
              "    </tr>\n",
              "  </thead>\n",
              "  <tbody>\n",
              "    <tr>\n",
              "      <th>2316</th>\n",
              "      <td>Quận 4</td>\n",
              "      <td>Nhà trong hẻm</td>\n",
              "      <td>Sổ hồng/ Sổ đỏ</td>\n",
              "      <td>2</td>\n",
              "      <td>2</td>\n",
              "      <td>36.0</td>\n",
              "      <td>9.0</td>\n",
              "      <td>4.0</td>\n",
              "    </tr>\n",
              "    <tr>\n",
              "      <th>320</th>\n",
              "      <td>Quận Tân Phú</td>\n",
              "      <td>Nhà trong hẻm</td>\n",
              "      <td>Sổ hồng/ Sổ đỏ</td>\n",
              "      <td>4</td>\n",
              "      <td>4</td>\n",
              "      <td>60.0</td>\n",
              "      <td>15.0</td>\n",
              "      <td>4.0</td>\n",
              "    </tr>\n",
              "    <tr>\n",
              "      <th>13415</th>\n",
              "      <td>Quận Bình Thạnh</td>\n",
              "      <td>Nhà mặt tiền</td>\n",
              "      <td>Không có giấy</td>\n",
              "      <td>5</td>\n",
              "      <td>5</td>\n",
              "      <td>88.0</td>\n",
              "      <td>22.0</td>\n",
              "      <td>4.0</td>\n",
              "    </tr>\n",
              "    <tr>\n",
              "      <th>10966</th>\n",
              "      <td>Quận 5</td>\n",
              "      <td>Nhà trong hẻm</td>\n",
              "      <td>Sổ hồng/ Sổ đỏ</td>\n",
              "      <td>5</td>\n",
              "      <td>4</td>\n",
              "      <td>48.0</td>\n",
              "      <td>12.0</td>\n",
              "      <td>4.0</td>\n",
              "    </tr>\n",
              "    <tr>\n",
              "      <th>1172</th>\n",
              "      <td>Quận 7</td>\n",
              "      <td>Đất nền, liền kề, đất dự án</td>\n",
              "      <td>Sổ hồng/ Sổ đỏ</td>\n",
              "      <td>1</td>\n",
              "      <td>1</td>\n",
              "      <td>108.0</td>\n",
              "      <td>18.0</td>\n",
              "      <td>6.0</td>\n",
              "    </tr>\n",
              "    <tr>\n",
              "      <th>...</th>\n",
              "      <td>...</td>\n",
              "      <td>...</td>\n",
              "      <td>...</td>\n",
              "      <td>...</td>\n",
              "      <td>...</td>\n",
              "      <td>...</td>\n",
              "      <td>...</td>\n",
              "      <td>...</td>\n",
              "    </tr>\n",
              "    <tr>\n",
              "      <th>8242</th>\n",
              "      <td>Quận Bình Thạnh</td>\n",
              "      <td>Nhà trong hẻm</td>\n",
              "      <td>Sổ hồng/ Sổ đỏ</td>\n",
              "      <td>3</td>\n",
              "      <td>4</td>\n",
              "      <td>45.0</td>\n",
              "      <td>15.0</td>\n",
              "      <td>3.0</td>\n",
              "    </tr>\n",
              "    <tr>\n",
              "      <th>10859</th>\n",
              "      <td>Quận 12</td>\n",
              "      <td>Nhà mặt tiền</td>\n",
              "      <td>Sổ hồng/ Sổ đỏ</td>\n",
              "      <td>3</td>\n",
              "      <td>5</td>\n",
              "      <td>110.0</td>\n",
              "      <td>28.0</td>\n",
              "      <td>4.0</td>\n",
              "    </tr>\n",
              "    <tr>\n",
              "      <th>9191</th>\n",
              "      <td>Quận Tân Bình</td>\n",
              "      <td>Nhà trong hẻm</td>\n",
              "      <td>Sổ hồng/ Sổ đỏ</td>\n",
              "      <td>4</td>\n",
              "      <td>4</td>\n",
              "      <td>50.0</td>\n",
              "      <td>12.0</td>\n",
              "      <td>4.2</td>\n",
              "    </tr>\n",
              "    <tr>\n",
              "      <th>5075</th>\n",
              "      <td>Quận Bình Thạnh</td>\n",
              "      <td>Nhà mặt tiền</td>\n",
              "      <td>Sổ hồng/ Sổ đỏ</td>\n",
              "      <td>5</td>\n",
              "      <td>4</td>\n",
              "      <td>78.0</td>\n",
              "      <td>18.0</td>\n",
              "      <td>4.0</td>\n",
              "    </tr>\n",
              "    <tr>\n",
              "      <th>8393</th>\n",
              "      <td>Quận 11</td>\n",
              "      <td>Nhà mặt tiền</td>\n",
              "      <td>Sổ hồng/ Sổ đỏ</td>\n",
              "      <td>2</td>\n",
              "      <td>3</td>\n",
              "      <td>62.0</td>\n",
              "      <td>12.4</td>\n",
              "      <td>5.0</td>\n",
              "    </tr>\n",
              "  </tbody>\n",
              "</table>\n",
              "<p>1882 rows × 8 columns</p>\n",
              "</div>\n",
              "      <button class=\"colab-df-convert\" onclick=\"convertToInteractive('df-a3796243-cfc6-41ee-a5dd-f6b3f056903a')\"\n",
              "              title=\"Convert this dataframe to an interactive table.\"\n",
              "              style=\"display:none;\">\n",
              "        \n",
              "  <svg xmlns=\"http://www.w3.org/2000/svg\" height=\"24px\"viewBox=\"0 0 24 24\"\n",
              "       width=\"24px\">\n",
              "    <path d=\"M0 0h24v24H0V0z\" fill=\"none\"/>\n",
              "    <path d=\"M18.56 5.44l.94 2.06.94-2.06 2.06-.94-2.06-.94-.94-2.06-.94 2.06-2.06.94zm-11 1L8.5 8.5l.94-2.06 2.06-.94-2.06-.94L8.5 2.5l-.94 2.06-2.06.94zm10 10l.94 2.06.94-2.06 2.06-.94-2.06-.94-.94-2.06-.94 2.06-2.06.94z\"/><path d=\"M17.41 7.96l-1.37-1.37c-.4-.4-.92-.59-1.43-.59-.52 0-1.04.2-1.43.59L10.3 9.45l-7.72 7.72c-.78.78-.78 2.05 0 2.83L4 21.41c.39.39.9.59 1.41.59.51 0 1.02-.2 1.41-.59l7.78-7.78 2.81-2.81c.8-.78.8-2.07 0-2.86zM5.41 20L4 18.59l7.72-7.72 1.47 1.35L5.41 20z\"/>\n",
              "  </svg>\n",
              "      </button>\n",
              "      \n",
              "  <style>\n",
              "    .colab-df-container {\n",
              "      display:flex;\n",
              "      flex-wrap:wrap;\n",
              "      gap: 12px;\n",
              "    }\n",
              "\n",
              "    .colab-df-convert {\n",
              "      background-color: #E8F0FE;\n",
              "      border: none;\n",
              "      border-radius: 50%;\n",
              "      cursor: pointer;\n",
              "      display: none;\n",
              "      fill: #1967D2;\n",
              "      height: 32px;\n",
              "      padding: 0 0 0 0;\n",
              "      width: 32px;\n",
              "    }\n",
              "\n",
              "    .colab-df-convert:hover {\n",
              "      background-color: #E2EBFA;\n",
              "      box-shadow: 0px 1px 2px rgba(60, 64, 67, 0.3), 0px 1px 3px 1px rgba(60, 64, 67, 0.15);\n",
              "      fill: #174EA6;\n",
              "    }\n",
              "\n",
              "    [theme=dark] .colab-df-convert {\n",
              "      background-color: #3B4455;\n",
              "      fill: #D2E3FC;\n",
              "    }\n",
              "\n",
              "    [theme=dark] .colab-df-convert:hover {\n",
              "      background-color: #434B5C;\n",
              "      box-shadow: 0px 1px 3px 1px rgba(0, 0, 0, 0.15);\n",
              "      filter: drop-shadow(0px 1px 2px rgba(0, 0, 0, 0.3));\n",
              "      fill: #FFFFFF;\n",
              "    }\n",
              "  </style>\n",
              "\n",
              "      <script>\n",
              "        const buttonEl =\n",
              "          document.querySelector('#df-a3796243-cfc6-41ee-a5dd-f6b3f056903a button.colab-df-convert');\n",
              "        buttonEl.style.display =\n",
              "          google.colab.kernel.accessAllowed ? 'block' : 'none';\n",
              "\n",
              "        async function convertToInteractive(key) {\n",
              "          const element = document.querySelector('#df-a3796243-cfc6-41ee-a5dd-f6b3f056903a');\n",
              "          const dataTable =\n",
              "            await google.colab.kernel.invokeFunction('convertToInteractive',\n",
              "                                                     [key], {});\n",
              "          if (!dataTable) return;\n",
              "\n",
              "          const docLinkHtml = 'Like what you see? Visit the ' +\n",
              "            '<a target=\"_blank\" href=https://colab.research.google.com/notebooks/data_table.ipynb>data table notebook</a>'\n",
              "            + ' to learn more about interactive tables.';\n",
              "          element.innerHTML = '';\n",
              "          dataTable['output_type'] = 'display_data';\n",
              "          await google.colab.output.renderOutput(dataTable, element);\n",
              "          const docLink = document.createElement('div');\n",
              "          docLink.innerHTML = docLinkHtml;\n",
              "          element.appendChild(docLink);\n",
              "        }\n",
              "      </script>\n",
              "    </div>\n",
              "  </div>\n",
              "  "
            ]
          },
          "metadata": {},
          "execution_count": 53
        }
      ]
    },
    {
      "cell_type": "code",
      "source": [
        "y_train"
      ],
      "metadata": {
        "colab": {
          "base_uri": "https://localhost:8080/",
          "height": 424
        },
        "id": "Ea_EHKUJp8Y2",
        "outputId": "31e7db26-f44b-410c-c9cd-ef8c0a3745e1"
      },
      "execution_count": 54,
      "outputs": [
        {
          "output_type": "execute_result",
          "data": {
            "text/plain": [
              "         price\n",
              "10831   7200.0\n",
              "2727   20000.0\n",
              "2586    8600.0\n",
              "7482    3790.0\n",
              "8984    1680.0\n",
              "...        ...\n",
              "4310    8000.0\n",
              "11279   7200.0\n",
              "1365    2500.0\n",
              "7616   11300.0\n",
              "321     9500.0\n",
              "\n",
              "[7524 rows x 1 columns]"
            ],
            "text/html": [
              "\n",
              "  <div id=\"df-29d13ba2-3ff5-4e9a-b967-270a48804d14\">\n",
              "    <div class=\"colab-df-container\">\n",
              "      <div>\n",
              "<style scoped>\n",
              "    .dataframe tbody tr th:only-of-type {\n",
              "        vertical-align: middle;\n",
              "    }\n",
              "\n",
              "    .dataframe tbody tr th {\n",
              "        vertical-align: top;\n",
              "    }\n",
              "\n",
              "    .dataframe thead th {\n",
              "        text-align: right;\n",
              "    }\n",
              "</style>\n",
              "<table border=\"1\" class=\"dataframe\">\n",
              "  <thead>\n",
              "    <tr style=\"text-align: right;\">\n",
              "      <th></th>\n",
              "      <th>price</th>\n",
              "    </tr>\n",
              "  </thead>\n",
              "  <tbody>\n",
              "    <tr>\n",
              "      <th>10831</th>\n",
              "      <td>7200.0</td>\n",
              "    </tr>\n",
              "    <tr>\n",
              "      <th>2727</th>\n",
              "      <td>20000.0</td>\n",
              "    </tr>\n",
              "    <tr>\n",
              "      <th>2586</th>\n",
              "      <td>8600.0</td>\n",
              "    </tr>\n",
              "    <tr>\n",
              "      <th>7482</th>\n",
              "      <td>3790.0</td>\n",
              "    </tr>\n",
              "    <tr>\n",
              "      <th>8984</th>\n",
              "      <td>1680.0</td>\n",
              "    </tr>\n",
              "    <tr>\n",
              "      <th>...</th>\n",
              "      <td>...</td>\n",
              "    </tr>\n",
              "    <tr>\n",
              "      <th>4310</th>\n",
              "      <td>8000.0</td>\n",
              "    </tr>\n",
              "    <tr>\n",
              "      <th>11279</th>\n",
              "      <td>7200.0</td>\n",
              "    </tr>\n",
              "    <tr>\n",
              "      <th>1365</th>\n",
              "      <td>2500.0</td>\n",
              "    </tr>\n",
              "    <tr>\n",
              "      <th>7616</th>\n",
              "      <td>11300.0</td>\n",
              "    </tr>\n",
              "    <tr>\n",
              "      <th>321</th>\n",
              "      <td>9500.0</td>\n",
              "    </tr>\n",
              "  </tbody>\n",
              "</table>\n",
              "<p>7524 rows × 1 columns</p>\n",
              "</div>\n",
              "      <button class=\"colab-df-convert\" onclick=\"convertToInteractive('df-29d13ba2-3ff5-4e9a-b967-270a48804d14')\"\n",
              "              title=\"Convert this dataframe to an interactive table.\"\n",
              "              style=\"display:none;\">\n",
              "        \n",
              "  <svg xmlns=\"http://www.w3.org/2000/svg\" height=\"24px\"viewBox=\"0 0 24 24\"\n",
              "       width=\"24px\">\n",
              "    <path d=\"M0 0h24v24H0V0z\" fill=\"none\"/>\n",
              "    <path d=\"M18.56 5.44l.94 2.06.94-2.06 2.06-.94-2.06-.94-.94-2.06-.94 2.06-2.06.94zm-11 1L8.5 8.5l.94-2.06 2.06-.94-2.06-.94L8.5 2.5l-.94 2.06-2.06.94zm10 10l.94 2.06.94-2.06 2.06-.94-2.06-.94-.94-2.06-.94 2.06-2.06.94z\"/><path d=\"M17.41 7.96l-1.37-1.37c-.4-.4-.92-.59-1.43-.59-.52 0-1.04.2-1.43.59L10.3 9.45l-7.72 7.72c-.78.78-.78 2.05 0 2.83L4 21.41c.39.39.9.59 1.41.59.51 0 1.02-.2 1.41-.59l7.78-7.78 2.81-2.81c.8-.78.8-2.07 0-2.86zM5.41 20L4 18.59l7.72-7.72 1.47 1.35L5.41 20z\"/>\n",
              "  </svg>\n",
              "      </button>\n",
              "      \n",
              "  <style>\n",
              "    .colab-df-container {\n",
              "      display:flex;\n",
              "      flex-wrap:wrap;\n",
              "      gap: 12px;\n",
              "    }\n",
              "\n",
              "    .colab-df-convert {\n",
              "      background-color: #E8F0FE;\n",
              "      border: none;\n",
              "      border-radius: 50%;\n",
              "      cursor: pointer;\n",
              "      display: none;\n",
              "      fill: #1967D2;\n",
              "      height: 32px;\n",
              "      padding: 0 0 0 0;\n",
              "      width: 32px;\n",
              "    }\n",
              "\n",
              "    .colab-df-convert:hover {\n",
              "      background-color: #E2EBFA;\n",
              "      box-shadow: 0px 1px 2px rgba(60, 64, 67, 0.3), 0px 1px 3px 1px rgba(60, 64, 67, 0.15);\n",
              "      fill: #174EA6;\n",
              "    }\n",
              "\n",
              "    [theme=dark] .colab-df-convert {\n",
              "      background-color: #3B4455;\n",
              "      fill: #D2E3FC;\n",
              "    }\n",
              "\n",
              "    [theme=dark] .colab-df-convert:hover {\n",
              "      background-color: #434B5C;\n",
              "      box-shadow: 0px 1px 3px 1px rgba(0, 0, 0, 0.15);\n",
              "      filter: drop-shadow(0px 1px 2px rgba(0, 0, 0, 0.3));\n",
              "      fill: #FFFFFF;\n",
              "    }\n",
              "  </style>\n",
              "\n",
              "      <script>\n",
              "        const buttonEl =\n",
              "          document.querySelector('#df-29d13ba2-3ff5-4e9a-b967-270a48804d14 button.colab-df-convert');\n",
              "        buttonEl.style.display =\n",
              "          google.colab.kernel.accessAllowed ? 'block' : 'none';\n",
              "\n",
              "        async function convertToInteractive(key) {\n",
              "          const element = document.querySelector('#df-29d13ba2-3ff5-4e9a-b967-270a48804d14');\n",
              "          const dataTable =\n",
              "            await google.colab.kernel.invokeFunction('convertToInteractive',\n",
              "                                                     [key], {});\n",
              "          if (!dataTable) return;\n",
              "\n",
              "          const docLinkHtml = 'Like what you see? Visit the ' +\n",
              "            '<a target=\"_blank\" href=https://colab.research.google.com/notebooks/data_table.ipynb>data table notebook</a>'\n",
              "            + ' to learn more about interactive tables.';\n",
              "          element.innerHTML = '';\n",
              "          dataTable['output_type'] = 'display_data';\n",
              "          await google.colab.output.renderOutput(dataTable, element);\n",
              "          const docLink = document.createElement('div');\n",
              "          docLink.innerHTML = docLinkHtml;\n",
              "          element.appendChild(docLink);\n",
              "        }\n",
              "      </script>\n",
              "    </div>\n",
              "  </div>\n",
              "  "
            ]
          },
          "metadata": {},
          "execution_count": 54
        }
      ]
    },
    {
      "cell_type": "code",
      "source": [
        "y_test"
      ],
      "metadata": {
        "colab": {
          "base_uri": "https://localhost:8080/",
          "height": 424
        },
        "id": "UdyfAHxFp-YT",
        "outputId": "078aff0b-8dcd-49d9-a812-e36101e1583e"
      },
      "execution_count": 55,
      "outputs": [
        {
          "output_type": "execute_result",
          "data": {
            "text/plain": [
              "         price\n",
              "2316    4100.0\n",
              "320     8500.0\n",
              "13415  28000.0\n",
              "10966   9800.0\n",
              "1172   15000.0\n",
              "...        ...\n",
              "8242    4750.0\n",
              "10859   9500.0\n",
              "9191    6500.0\n",
              "5075   10200.0\n",
              "8393     965.0\n",
              "\n",
              "[1882 rows x 1 columns]"
            ],
            "text/html": [
              "\n",
              "  <div id=\"df-dfaa79f2-1278-4257-be5a-f98ba34f8b3c\">\n",
              "    <div class=\"colab-df-container\">\n",
              "      <div>\n",
              "<style scoped>\n",
              "    .dataframe tbody tr th:only-of-type {\n",
              "        vertical-align: middle;\n",
              "    }\n",
              "\n",
              "    .dataframe tbody tr th {\n",
              "        vertical-align: top;\n",
              "    }\n",
              "\n",
              "    .dataframe thead th {\n",
              "        text-align: right;\n",
              "    }\n",
              "</style>\n",
              "<table border=\"1\" class=\"dataframe\">\n",
              "  <thead>\n",
              "    <tr style=\"text-align: right;\">\n",
              "      <th></th>\n",
              "      <th>price</th>\n",
              "    </tr>\n",
              "  </thead>\n",
              "  <tbody>\n",
              "    <tr>\n",
              "      <th>2316</th>\n",
              "      <td>4100.0</td>\n",
              "    </tr>\n",
              "    <tr>\n",
              "      <th>320</th>\n",
              "      <td>8500.0</td>\n",
              "    </tr>\n",
              "    <tr>\n",
              "      <th>13415</th>\n",
              "      <td>28000.0</td>\n",
              "    </tr>\n",
              "    <tr>\n",
              "      <th>10966</th>\n",
              "      <td>9800.0</td>\n",
              "    </tr>\n",
              "    <tr>\n",
              "      <th>1172</th>\n",
              "      <td>15000.0</td>\n",
              "    </tr>\n",
              "    <tr>\n",
              "      <th>...</th>\n",
              "      <td>...</td>\n",
              "    </tr>\n",
              "    <tr>\n",
              "      <th>8242</th>\n",
              "      <td>4750.0</td>\n",
              "    </tr>\n",
              "    <tr>\n",
              "      <th>10859</th>\n",
              "      <td>9500.0</td>\n",
              "    </tr>\n",
              "    <tr>\n",
              "      <th>9191</th>\n",
              "      <td>6500.0</td>\n",
              "    </tr>\n",
              "    <tr>\n",
              "      <th>5075</th>\n",
              "      <td>10200.0</td>\n",
              "    </tr>\n",
              "    <tr>\n",
              "      <th>8393</th>\n",
              "      <td>965.0</td>\n",
              "    </tr>\n",
              "  </tbody>\n",
              "</table>\n",
              "<p>1882 rows × 1 columns</p>\n",
              "</div>\n",
              "      <button class=\"colab-df-convert\" onclick=\"convertToInteractive('df-dfaa79f2-1278-4257-be5a-f98ba34f8b3c')\"\n",
              "              title=\"Convert this dataframe to an interactive table.\"\n",
              "              style=\"display:none;\">\n",
              "        \n",
              "  <svg xmlns=\"http://www.w3.org/2000/svg\" height=\"24px\"viewBox=\"0 0 24 24\"\n",
              "       width=\"24px\">\n",
              "    <path d=\"M0 0h24v24H0V0z\" fill=\"none\"/>\n",
              "    <path d=\"M18.56 5.44l.94 2.06.94-2.06 2.06-.94-2.06-.94-.94-2.06-.94 2.06-2.06.94zm-11 1L8.5 8.5l.94-2.06 2.06-.94-2.06-.94L8.5 2.5l-.94 2.06-2.06.94zm10 10l.94 2.06.94-2.06 2.06-.94-2.06-.94-.94-2.06-.94 2.06-2.06.94z\"/><path d=\"M17.41 7.96l-1.37-1.37c-.4-.4-.92-.59-1.43-.59-.52 0-1.04.2-1.43.59L10.3 9.45l-7.72 7.72c-.78.78-.78 2.05 0 2.83L4 21.41c.39.39.9.59 1.41.59.51 0 1.02-.2 1.41-.59l7.78-7.78 2.81-2.81c.8-.78.8-2.07 0-2.86zM5.41 20L4 18.59l7.72-7.72 1.47 1.35L5.41 20z\"/>\n",
              "  </svg>\n",
              "      </button>\n",
              "      \n",
              "  <style>\n",
              "    .colab-df-container {\n",
              "      display:flex;\n",
              "      flex-wrap:wrap;\n",
              "      gap: 12px;\n",
              "    }\n",
              "\n",
              "    .colab-df-convert {\n",
              "      background-color: #E8F0FE;\n",
              "      border: none;\n",
              "      border-radius: 50%;\n",
              "      cursor: pointer;\n",
              "      display: none;\n",
              "      fill: #1967D2;\n",
              "      height: 32px;\n",
              "      padding: 0 0 0 0;\n",
              "      width: 32px;\n",
              "    }\n",
              "\n",
              "    .colab-df-convert:hover {\n",
              "      background-color: #E2EBFA;\n",
              "      box-shadow: 0px 1px 2px rgba(60, 64, 67, 0.3), 0px 1px 3px 1px rgba(60, 64, 67, 0.15);\n",
              "      fill: #174EA6;\n",
              "    }\n",
              "\n",
              "    [theme=dark] .colab-df-convert {\n",
              "      background-color: #3B4455;\n",
              "      fill: #D2E3FC;\n",
              "    }\n",
              "\n",
              "    [theme=dark] .colab-df-convert:hover {\n",
              "      background-color: #434B5C;\n",
              "      box-shadow: 0px 1px 3px 1px rgba(0, 0, 0, 0.15);\n",
              "      filter: drop-shadow(0px 1px 2px rgba(0, 0, 0, 0.3));\n",
              "      fill: #FFFFFF;\n",
              "    }\n",
              "  </style>\n",
              "\n",
              "      <script>\n",
              "        const buttonEl =\n",
              "          document.querySelector('#df-dfaa79f2-1278-4257-be5a-f98ba34f8b3c button.colab-df-convert');\n",
              "        buttonEl.style.display =\n",
              "          google.colab.kernel.accessAllowed ? 'block' : 'none';\n",
              "\n",
              "        async function convertToInteractive(key) {\n",
              "          const element = document.querySelector('#df-dfaa79f2-1278-4257-be5a-f98ba34f8b3c');\n",
              "          const dataTable =\n",
              "            await google.colab.kernel.invokeFunction('convertToInteractive',\n",
              "                                                     [key], {});\n",
              "          if (!dataTable) return;\n",
              "\n",
              "          const docLinkHtml = 'Like what you see? Visit the ' +\n",
              "            '<a target=\"_blank\" href=https://colab.research.google.com/notebooks/data_table.ipynb>data table notebook</a>'\n",
              "            + ' to learn more about interactive tables.';\n",
              "          element.innerHTML = '';\n",
              "          dataTable['output_type'] = 'display_data';\n",
              "          await google.colab.output.renderOutput(dataTable, element);\n",
              "          const docLink = document.createElement('div');\n",
              "          docLink.innerHTML = docLinkHtml;\n",
              "          element.appendChild(docLink);\n",
              "        }\n",
              "      </script>\n",
              "    </div>\n",
              "  </div>\n",
              "  "
            ]
          },
          "metadata": {},
          "execution_count": 55
        }
      ]
    },
    {
      "cell_type": "code",
      "source": [
        "X_train.shape, y_train.shape"
      ],
      "metadata": {
        "colab": {
          "base_uri": "https://localhost:8080/"
        },
        "id": "EVEVrEBeqfIc",
        "outputId": "922a7ded-849b-4d31-c74c-2ce42329ca33"
      },
      "execution_count": 56,
      "outputs": [
        {
          "output_type": "execute_result",
          "data": {
            "text/plain": [
              "((7524, 8), (7524, 1))"
            ]
          },
          "metadata": {},
          "execution_count": 56
        }
      ]
    },
    {
      "cell_type": "code",
      "source": [
        "X_test.shape, y_test.shape"
      ],
      "metadata": {
        "colab": {
          "base_uri": "https://localhost:8080/"
        },
        "id": "_HtB44Q8qniD",
        "outputId": "aea4fce6-f9f9-4103-dabe-b2f09142f78f"
      },
      "execution_count": 57,
      "outputs": [
        {
          "output_type": "execute_result",
          "data": {
            "text/plain": [
              "((1882, 8), (1882, 1))"
            ]
          },
          "metadata": {},
          "execution_count": 57
        }
      ]
    },
    {
      "cell_type": "markdown",
      "source": [
        "###**Class Training Model**"
      ],
      "metadata": {
        "id": "BBiET5NGYERq"
      }
    },
    {
      "cell_type": "code",
      "source": [
        "'''\n",
        "{'max_depth': 40,\n",
        " 'max_features': 'log2',\n",
        " 'min_samples_leaf': 1,\n",
        " 'min_samples_split': 2,\n",
        " 'n_estimators': 400}\n",
        " '''"
      ],
      "metadata": {
        "id": "srg5aJ0WZprZ",
        "colab": {
          "base_uri": "https://localhost:8080/",
          "height": 36
        },
        "outputId": "9ed5e8aa-5665-4c7b-cdc2-3d6d5e73265e"
      },
      "execution_count": 58,
      "outputs": [
        {
          "output_type": "execute_result",
          "data": {
            "text/plain": [
              "\"\\n{'max_depth': 40,\\n 'max_features': 'log2',\\n 'min_samples_leaf': 1,\\n 'min_samples_split': 2,\\n 'n_estimators': 400}\\n \""
            ],
            "application/vnd.google.colaboratory.intrinsic+json": {
              "type": "string"
            }
          },
          "metadata": {},
          "execution_count": 58
        }
      ]
    },
    {
      "cell_type": "code",
      "source": [
        "class TrainModel:\n",
        "  \"\"\"\n",
        "    Class TrainModel dùng để xây dựng model dự đoán với input là tập dữ liệu đã chia \n",
        "    và các model bao gồm RandomForest, Linear Regression, Support Vector Regressor, Decision Tree\n",
        "    Output là model và score(độ chính xác của model).  \n",
        "    Class Trainmodel gồm các hàm thành phần:\n",
        "        + Hàm __init__(): \n",
        "              -- contructor khởi tạo các mô hình định (RF, LR, SVR, DT); \n",
        "              -- các param mẫu (param_RF) cho việc thực hiện Gridsearch;\n",
        "              -- column_trans: encode label trong các cột\n",
        "              -- scaler: chuẩn hóa dữ liệu với Standard Scaler\n",
        "              -- X_train, X_test, y_train, y_test: các trường dữ liệu phân chia trước khi vào huấn luyện\n",
        "        + Hàm makepipe(): tạo hệ thống pipe xử lý song song việc encol label model và train model\n",
        "        + Hàm RandomForest(): xây dựng mô hình hồi quy RandomForest\n",
        "        + Hàm LinearReg(): xây dựng mô hình hồi quy LinearRegression\n",
        "        + Hàm SupportVectorReg(): xây dựng mô hình hồi quy SVR\n",
        "        + Hàm DecisionTree(): xây dựng mô hình hồi quy DT\n",
        "        + Hàm GridSearch(): dùng công cụ hộ trợ sklearn.GridSearchCV() tuning cho mô hình với tập param mẫu trên toàn bộ dữ liệu train, tìm ra param tốt nhất cho mô hình (best_param_) và score(best_score).\n",
        "\n",
        "  \"\"\"\n",
        "  def __init__(self,X_train, X_test, y_train, y_test):\n",
        "    self.RF = RandomForestRegressor()\n",
        "    self.LR =  LinearRegression()\n",
        "    self.SVR = SVR(C=5000.0, epsilon=1)\n",
        "    self.DT = DecisionTreeRegressor()\n",
        "    # param mẫu RandomForest cho GridSearch() \n",
        "    self.param_RF = {'n_estimators': [398,399,400,401,402],\n",
        "               'max_features': ['log2','sqrt'],\n",
        "               'max_depth': [38,39,40,41,42],\n",
        "               'min_samples_split': [1,2],\n",
        "               'min_samples_leaf': [1,2]}\n",
        "\n",
        "\n",
        "\n",
        "    #encoder label \n",
        "    self.column_trans = make_column_transformer((OneHotEncoder(sparse=False),['district']),\n",
        "                                       (OneHotEncoder(sparse=False),['type_of_housing','legal_paper']),\n",
        "                                       (OneHotEncoder(sparse=False),['legal_paper']),\n",
        "                                       remainder='passthrough')\n",
        "    self.scaler = StandardScaler()\n",
        "    self.X_train = X_train \n",
        "    self.X_test = X_test\n",
        "    self.y_train = y_train\n",
        "    self.y_test= y_test\n",
        "\n",
        "  def makepipe(self,model):\n",
        "    pipe = make_pipeline(self.column_trans,self.scaler,model)\n",
        "    return pipe\n",
        "  def RandomForest(self):\n",
        "    pipe = self.makepipe(self.RF)\n",
        "    pipe.fit(self.X_train,self.y_train)  \n",
        "    y_predict = pipe.predict(self.X_test)  \n",
        "    return pipe,r2_score(self.y_test,y_predict)\n",
        "  def LinearReg(self):\n",
        "    pipe = self.makepipe(self.LR)\n",
        "    pipe.fit(self.X_train,self.y_train)  \n",
        "    y_predict = pipe.predict(self.X_test)  \n",
        "    return pipe,r2_score(self.y_test,y_predict)\n",
        "  def SupportVectorReg(self):\n",
        "    pipe = self.makepipe(self.SVR)\n",
        "    pipe.fit(self.X_train,self.y_train)  \n",
        "    y_predict = pipe.predict(self.X_test)  \n",
        "    return pipe,r2_score(self.y_test,y_predict)\n",
        "  def DecisionTree(self):\n",
        "    pipe = self.makepipe(self.DT)\n",
        "    pipe.fit(self.X_train,self.y_train)  \n",
        "    y_predict = pipe.predict(self.X_test)  \n",
        "    return pipe,r2_score(self.y_test,y_predict)\n",
        "  \n",
        "  def GridSearch(self):\n",
        "    Grid = self.makepipe(GridSearchCV(estimator=self.RF, param_grid=self.param_RF, \n",
        "                            cv=3, verbose=0))\n",
        "    Grid_search = Grid.fit(self.X_train, np.array(self.y_train).ravel())\n",
        "    model = self.makepipe(Grid_search[2].best_estimator_).fit(self.X_train, np.array(self.y_train).ravel())\n",
        "    y_predict = model.predict(self.X_test)\n",
        "    return Grid_search, model, r2_score(self.y_test,y_predict)\n",
        "    "
      ],
      "metadata": {
        "id": "FPG3YwkdaikH"
      },
      "execution_count": 59,
      "outputs": []
    },
    {
      "cell_type": "markdown",
      "source": [
        "###**Modeling**"
      ],
      "metadata": {
        "id": "VslfT3h7esWR"
      }
    },
    {
      "cell_type": "code",
      "source": [
        "model = TrainModel(X_train, X_test, y_train, y_test)"
      ],
      "metadata": {
        "id": "lmgaHqbkeqn_"
      },
      "execution_count": 60,
      "outputs": []
    },
    {
      "cell_type": "markdown",
      "source": [
        "####**Random Forest**"
      ],
      "metadata": {
        "id": "DHytlGOJBzVP"
      }
    },
    {
      "cell_type": "code",
      "source": [
        "pipe_RF,score = model.RandomForest()"
      ],
      "metadata": {
        "id": "mrpYxrCFeBqo",
        "colab": {
          "base_uri": "https://localhost:8080/"
        },
        "outputId": "6bf48a61-8b6d-4b6a-ed98-f272fa36e63d"
      },
      "execution_count": 61,
      "outputs": [
        {
          "output_type": "stream",
          "name": "stderr",
          "text": [
            "/usr/local/lib/python3.7/dist-packages/sklearn/pipeline.py:394: DataConversionWarning: A column-vector y was passed when a 1d array was expected. Please change the shape of y to (n_samples,), for example using ravel().\n",
            "  self._final_estimator.fit(Xt, y, **fit_params_last_step)\n"
          ]
        }
      ]
    },
    {
      "cell_type": "code",
      "source": [
        "score"
      ],
      "metadata": {
        "colab": {
          "base_uri": "https://localhost:8080/"
        },
        "id": "BrD7-0O1gxnT",
        "outputId": "ef5eb754-6be4-4524-a2f1-73aa638f35a3"
      },
      "execution_count": 62,
      "outputs": [
        {
          "output_type": "execute_result",
          "data": {
            "text/plain": [
              "0.895816133198734"
            ]
          },
          "metadata": {},
          "execution_count": 62
        }
      ]
    },
    {
      "cell_type": "markdown",
      "source": [
        "####**Linear Regession**"
      ],
      "metadata": {
        "id": "P3UdQ3Ed_COU"
      }
    },
    {
      "cell_type": "code",
      "source": [
        "pipe_LR,score = model.LinearReg()"
      ],
      "metadata": {
        "id": "HpRfFQ24fC6L"
      },
      "execution_count": 63,
      "outputs": []
    },
    {
      "cell_type": "code",
      "source": [
        "score"
      ],
      "metadata": {
        "colab": {
          "base_uri": "https://localhost:8080/"
        },
        "id": "AncMbbi_gz8y",
        "outputId": "18ea4574-d067-44cf-9f2b-24d96a8a8083"
      },
      "execution_count": 64,
      "outputs": [
        {
          "output_type": "execute_result",
          "data": {
            "text/plain": [
              "0.7109191377731527"
            ]
          },
          "metadata": {},
          "execution_count": 64
        }
      ]
    },
    {
      "cell_type": "markdown",
      "source": [
        "####**Support Vector Regressor**"
      ],
      "metadata": {
        "id": "VY9C8Ag6_CX6"
      }
    },
    {
      "cell_type": "code",
      "source": [
        "pipe_SVR,score = model.SupportVectorReg()"
      ],
      "metadata": {
        "colab": {
          "base_uri": "https://localhost:8080/"
        },
        "id": "XclBjI7ffOha",
        "outputId": "02db405e-8e77-4e06-97c7-a27d698f87dc"
      },
      "execution_count": 65,
      "outputs": [
        {
          "output_type": "stream",
          "name": "stderr",
          "text": [
            "/usr/local/lib/python3.7/dist-packages/sklearn/utils/validation.py:993: DataConversionWarning: A column-vector y was passed when a 1d array was expected. Please change the shape of y to (n_samples, ), for example using ravel().\n",
            "  y = column_or_1d(y, warn=True)\n"
          ]
        }
      ]
    },
    {
      "cell_type": "code",
      "source": [
        "score"
      ],
      "metadata": {
        "colab": {
          "base_uri": "https://localhost:8080/"
        },
        "id": "uwrP7cIDg1wH",
        "outputId": "35bb57fb-5079-4bed-8750-19e3447c943b"
      },
      "execution_count": 66,
      "outputs": [
        {
          "output_type": "execute_result",
          "data": {
            "text/plain": [
              "0.7882565897168239"
            ]
          },
          "metadata": {},
          "execution_count": 66
        }
      ]
    },
    {
      "cell_type": "markdown",
      "source": [
        "####**Decision Tree**"
      ],
      "metadata": {
        "id": "iUL1GxPy_CgN"
      }
    },
    {
      "cell_type": "code",
      "source": [
        "pipe_DT,score = model.DecisionTree()"
      ],
      "metadata": {
        "id": "FR87rwVrft1N"
      },
      "execution_count": 67,
      "outputs": []
    },
    {
      "cell_type": "code",
      "source": [
        "score"
      ],
      "metadata": {
        "colab": {
          "base_uri": "https://localhost:8080/"
        },
        "id": "XYtBDFD4g3P-",
        "outputId": "5581bb57-c8d8-4df7-9f91-cd2f77ba3816"
      },
      "execution_count": 68,
      "outputs": [
        {
          "output_type": "execute_result",
          "data": {
            "text/plain": [
              "0.8143602820230375"
            ]
          },
          "metadata": {},
          "execution_count": 68
        }
      ]
    },
    {
      "cell_type": "markdown",
      "source": [
        "####**Find Best Model with Grid Search**"
      ],
      "metadata": {
        "id": "ii0nc2ZasroK"
      }
    },
    {
      "cell_type": "code",
      "source": [
        "Grid_search_RF, pipe, score = model.GridSearch()\n",
        "score"
      ],
      "metadata": {
        "id": "DB3FvAvQC2lL",
        "colab": {
          "base_uri": "https://localhost:8080/"
        },
        "outputId": "dc431b7b-844f-4869-cb31-e46368b5c656"
      },
      "execution_count": 69,
      "outputs": [
        {
          "output_type": "stream",
          "name": "stderr",
          "text": [
            "/usr/local/lib/python3.7/dist-packages/sklearn/model_selection/_validation.py:372: FitFailedWarning: \n",
            "300 fits failed out of a total of 600.\n",
            "The score on these train-test partitions for these parameters will be set to nan.\n",
            "If these failures are not expected, you can try to debug them by setting error_score='raise'.\n",
            "\n",
            "Below are more details about the failures:\n",
            "--------------------------------------------------------------------------------\n",
            "300 fits failed with the following error:\n",
            "Traceback (most recent call last):\n",
            "  File \"/usr/local/lib/python3.7/dist-packages/sklearn/model_selection/_validation.py\", line 680, in _fit_and_score\n",
            "    estimator.fit(X_train, y_train, **fit_params)\n",
            "  File \"/usr/local/lib/python3.7/dist-packages/sklearn/ensemble/_forest.py\", line 467, in fit\n",
            "    for i, t in enumerate(trees)\n",
            "  File \"/usr/local/lib/python3.7/dist-packages/joblib/parallel.py\", line 1043, in __call__\n",
            "    if self.dispatch_one_batch(iterator):\n",
            "  File \"/usr/local/lib/python3.7/dist-packages/joblib/parallel.py\", line 861, in dispatch_one_batch\n",
            "    self._dispatch(tasks)\n",
            "  File \"/usr/local/lib/python3.7/dist-packages/joblib/parallel.py\", line 779, in _dispatch\n",
            "    job = self._backend.apply_async(batch, callback=cb)\n",
            "  File \"/usr/local/lib/python3.7/dist-packages/joblib/_parallel_backends.py\", line 208, in apply_async\n",
            "    result = ImmediateResult(func)\n",
            "  File \"/usr/local/lib/python3.7/dist-packages/joblib/_parallel_backends.py\", line 572, in __init__\n",
            "    self.results = batch()\n",
            "  File \"/usr/local/lib/python3.7/dist-packages/joblib/parallel.py\", line 263, in __call__\n",
            "    for func, args, kwargs in self.items]\n",
            "  File \"/usr/local/lib/python3.7/dist-packages/joblib/parallel.py\", line 263, in <listcomp>\n",
            "    for func, args, kwargs in self.items]\n",
            "  File \"/usr/local/lib/python3.7/dist-packages/sklearn/utils/fixes.py\", line 216, in __call__\n",
            "    return self.function(*args, **kwargs)\n",
            "  File \"/usr/local/lib/python3.7/dist-packages/sklearn/ensemble/_forest.py\", line 185, in _parallel_build_trees\n",
            "    tree.fit(X, y, sample_weight=curr_sample_weight, check_input=False)\n",
            "  File \"/usr/local/lib/python3.7/dist-packages/sklearn/tree/_classes.py\", line 1320, in fit\n",
            "    X_idx_sorted=X_idx_sorted,\n",
            "  File \"/usr/local/lib/python3.7/dist-packages/sklearn/tree/_classes.py\", line 254, in fit\n",
            "    % self.min_samples_split\n",
            "ValueError: min_samples_split must be an integer greater than 1 or a float in (0.0, 1.0]; got the integer 1\n",
            "\n",
            "  warnings.warn(some_fits_failed_message, FitFailedWarning)\n",
            "/usr/local/lib/python3.7/dist-packages/sklearn/model_selection/_search.py:972: UserWarning: One or more of the test scores are non-finite: [       nan        nan        nan        nan        nan 0.87587639\n",
            " 0.87614791 0.87669271 0.8760844  0.87643483        nan        nan\n",
            "        nan        nan        nan 0.81232891 0.8104324  0.81001567\n",
            " 0.81084433 0.811823          nan        nan        nan        nan\n",
            "        nan 0.87494778 0.87542239 0.87566467 0.87492503 0.87521097\n",
            "        nan        nan        nan        nan        nan 0.82017338\n",
            " 0.82005368 0.82041091 0.82071805 0.81997212        nan        nan\n",
            "        nan        nan        nan 0.87622466 0.87648336 0.87676919\n",
            " 0.87668328 0.87663588        nan        nan        nan        nan\n",
            "        nan 0.81041199 0.81076558 0.81176646 0.8107004  0.8105712\n",
            "        nan        nan        nan        nan        nan 0.87543046\n",
            " 0.87543796 0.87610791 0.87488589 0.87651925        nan        nan\n",
            "        nan        nan        nan 0.82037236 0.82015443 0.8200388\n",
            " 0.81974697 0.81968549        nan        nan        nan        nan\n",
            "        nan 0.87669745 0.87695655 0.87649882 0.87681004 0.87653915\n",
            "        nan        nan        nan        nan        nan 0.81085457\n",
            " 0.81037856 0.81089009 0.80954347 0.81061923        nan        nan\n",
            "        nan        nan        nan 0.87619324 0.87636864 0.87531608\n",
            " 0.87597012 0.87511947        nan        nan        nan        nan\n",
            "        nan 0.81956357 0.81976999 0.81961343 0.81935246 0.81990217\n",
            "        nan        nan        nan        nan        nan 0.8766633\n",
            " 0.87654289 0.87644576 0.87531238 0.87628624        nan        nan\n",
            "        nan        nan        nan 0.81072946 0.81038433 0.81121913\n",
            " 0.80989316 0.81097793        nan        nan        nan        nan\n",
            "        nan 0.87584185 0.87550877 0.87579486 0.87598842 0.87604536\n",
            "        nan        nan        nan        nan        nan 0.82099903\n",
            " 0.81971076 0.81948296 0.81888033 0.81995574        nan        nan\n",
            "        nan        nan        nan 0.87608159 0.87620738 0.87699748\n",
            " 0.87591263 0.87623872        nan        nan        nan        nan\n",
            "        nan 0.81043797 0.80988907 0.81130222 0.81047235 0.80983152\n",
            "        nan        nan        nan        nan        nan 0.87592427\n",
            " 0.87545585 0.87610579 0.8753351  0.87532535        nan        nan\n",
            "        nan        nan        nan 0.81915055 0.82072691 0.8201859\n",
            " 0.81988291 0.81915356]\n",
            "  category=UserWarning,\n"
          ]
        },
        {
          "output_type": "execute_result",
          "data": {
            "text/plain": [
              "0.9005576232742207"
            ]
          },
          "metadata": {},
          "execution_count": 69
        }
      ]
    },
    {
      "cell_type": "code",
      "source": [
        "Grid_search_RF[2].best_params_"
      ],
      "metadata": {
        "id": "GopehdAzCCcX",
        "colab": {
          "base_uri": "https://localhost:8080/"
        },
        "outputId": "56f51193-1af3-4b79-a174-b437e97d6d3b"
      },
      "execution_count": 70,
      "outputs": [
        {
          "output_type": "execute_result",
          "data": {
            "text/plain": [
              "{'max_depth': 42,\n",
              " 'max_features': 'log2',\n",
              " 'min_samples_leaf': 1,\n",
              " 'min_samples_split': 2,\n",
              " 'n_estimators': 400}"
            ]
          },
          "metadata": {},
          "execution_count": 70
        }
      ]
    },
    {
      "cell_type": "markdown",
      "source": [
        "####**Save best model**"
      ],
      "metadata": {
        "id": "rCFRyA1HQeHe"
      }
    },
    {
      "cell_type": "code",
      "source": [
        "import pickle\n",
        "#save the model to disk\n",
        "filename = 'finalized_model.sav'\n",
        "pickle.dump(pipe, open(filename, 'wb'))"
      ],
      "metadata": {
        "id": "ZV2DApJh25jj"
      },
      "execution_count": 71,
      "outputs": []
    },
    {
      "cell_type": "code",
      "source": [
        "pipe"
      ],
      "metadata": {
        "id": "b7r1NW_SRgJ0",
        "colab": {
          "base_uri": "https://localhost:8080/"
        },
        "outputId": "ae30c248-b8c7-42e3-fe09-54856ea03beb"
      },
      "execution_count": 72,
      "outputs": [
        {
          "output_type": "execute_result",
          "data": {
            "text/plain": [
              "Pipeline(steps=[('columntransformer',\n",
              "                 ColumnTransformer(remainder='passthrough',\n",
              "                                   transformers=[('onehotencoder-1',\n",
              "                                                  OneHotEncoder(sparse=False),\n",
              "                                                  ['district']),\n",
              "                                                 ('onehotencoder-2',\n",
              "                                                  OneHotEncoder(sparse=False),\n",
              "                                                  ['type_of_housing',\n",
              "                                                   'legal_paper']),\n",
              "                                                 ('onehotencoder-3',\n",
              "                                                  OneHotEncoder(sparse=False),\n",
              "                                                  ['legal_paper'])])),\n",
              "                ('standardscaler', StandardScaler()),\n",
              "                ('randomforestregressor',\n",
              "                 RandomForestRegressor(max_depth=42, max_features='log2',\n",
              "                                       n_estimators=400))])"
            ]
          },
          "metadata": {},
          "execution_count": 72
        }
      ]
    }
  ]
}